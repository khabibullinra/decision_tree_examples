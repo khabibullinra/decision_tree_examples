{
 "cells": [
  {
   "cell_type": "markdown",
   "metadata": {},
   "source": [
    "Пробуем сделать простое дерево решений и работать с ним"
   ]
  },
  {
   "cell_type": "markdown",
   "metadata": {},
   "source": [
    "# Задача 1. Сколько заплатить за месторождение?\n",
    "\n",
    "Вы покупаете месторождение. Известна геологическая оценка извлекаемых запасов:\n",
    "\n",
    "- p10 - 1 млн тонн нефти\n",
    "- p50 - 1.1 млн тонн нефти\n",
    "- p90 - 1.2 млн тонн нефти\n",
    "\n",
    "Стоимость 1 тонны нефти в запасах – 1 тыс. руб.\n",
    "\n",
    "Готовы ли купить месторождение за 1.1 млрд.руб? Сколько вы готовы заплатить?"
   ]
  },
  {
   "cell_type": "code",
   "execution_count": 1,
   "metadata": {},
   "outputs": [],
   "source": [
    "import json"
   ]
  },
  {
   "cell_type": "code",
   "execution_count": 43,
   "metadata": {},
   "outputs": [],
   "source": [
    "tree = {\"name\": \"Покупать\",\n",
    "        \"type\": \"decision\",\n",
    "        \"child_edges\":[\n",
    "                       {\"name\": \"Да\",\n",
    "                        \"voi_info\":\"with_info\",\n",
    "                        \"payoff\": -100,\n",
    "                        \"child_node\": \n",
    "                                    {\"name\": \"Успех\",\n",
    "                                     \"type\": \"chance\",\n",
    "                                     \"child_edges\": [\n",
    "                                                    {\"name\": \"Да\",\n",
    "                                                    \"payoff\": 1000,\n",
    "                                                    \"probability\": 0.6,\n",
    "                                                    \"child_node\": {\"type\": \"terminal\"}\n",
    "                                                    },\n",
    "                                                    {\"name\": \"Нет\",\n",
    "                                                    \"payoff\": -10,\n",
    "                                                    \"probability\": 0.4,\n",
    "                                                    \"child_node\": {\"type\": \"terminal\"}\n",
    "                                                    },\n",
    "                                                    ]  \n",
    "                                    }\n",
    "                        },\n",
    "                        {\"name\": \"Нет\",\n",
    "                         \"voi_info\":\"without_info\",\n",
    "                         \"payoff\": 1000,\n",
    "                         \"child_node\": {\"type\": \"terminal\"}\n",
    "                        }\n",
    "                    ]  \n",
    "        }"
   ]
  },
  {
   "cell_type": "code",
   "execution_count": 57,
   "metadata": {},
   "outputs": [
    {
     "name": "stdout",
     "output_type": "stream",
     "text": [
      "===========================\n",
      "|   decision : Покупать [ 1000]\n",
      "| --  Да   [payoff:-100  p = 0] ->    chance : Успех [ emv = 596.0] \n",
      "| ----  Да   [payoff:1000  p = 0.6] ->    terminal :  [ emv = 0]  (0.6 900)\n",
      "| ----  Нет   [payoff:-10  p = 0.4] ->    terminal :  [ emv = 0]  (0.4 -110)\n",
      "| --  Нет   [payoff:1000  p = 1] ->    terminal :  [ emv = 0]  (1 1000)\n"
     ]
    }
   ],
   "source": [
    "def solve_tree(tree, v=0, p=0):\n",
    "    \"\"\"\n",
    "    рекурсивное решение дерева заданного в виде словаря\n",
    "    \"\"\"\n",
    "    \n",
    "    if tree['type'] == 'terminal':\n",
    "        # для терминального узла сохраняем в нем итоговые выигрыши и вероятности\n",
    "        tree['emv'] = 0\n",
    "        tree['v'] = v\n",
    "        tree['p'] = p\n",
    "    else:\n",
    "        # или 'decision' или 'chance' с дочерними узлами\n",
    "        tree['emv'] = 0\n",
    "        if tree['type'] == 'decision':\n",
    "            tree['emvs'] = {}\n",
    "            num = 0\n",
    "        \n",
    "        for edge in tree['child_edges']:\n",
    "            # переберем все связи рассматриваемого узла\n",
    "            if tree['type'] == 'decision':\n",
    "                edge['id'] = num\n",
    "                num = num + 1\n",
    "\n",
    "            # рекурсивно рассчитаем параметры дочерних узлов\n",
    "            solve_tree(edge['child_node'], edge['payoff']+v, edge['probability'] if 'probability' in edge else 0 * p)\n",
    "\n",
    "            # рассчитаем emv рассматриваемого узла\n",
    "            if tree['type'] == 'decision':\n",
    "                tree['emvs'][edge['id']] = edge['child_node']['emv'] + edge['payoff']\n",
    "            else:\n",
    "                tree['emv'] = tree['emv'] + (edge['child_node']['emv'] + edge['payoff']) * edge['probability']\n",
    "\n",
    "        # для узла решения определим оптимальное - из максимизации EMV\n",
    "        if tree['type'] == 'decision':\n",
    "            tree['emv'] = max(tree['emvs'].values())\n",
    "            for edge in tree['child_edges']:\n",
    "                if tree['emvs'][edge['id']] == tree['emv']:\n",
    "                    edge['probability'] = 1\n",
    "                else:\n",
    "                    edge['probability'] = 0\n",
    "            # оценим VOI для узла решения\n",
    "            emv_wi = 0\n",
    "            emv_woi = 0\n",
    "            calc_voi = [False, False]\n",
    "            for edge in tree['child_edges']:\n",
    "                if 'voi_info' in edge:\n",
    "                    if edge['voi_info']=='with_info':\n",
    "                        emv_wi = tree['emvs'][edge['id']]\n",
    "                        calc_voi[0] = True\n",
    "                    if edge['voi_info']=='without_info':\n",
    "                        emv_woi = tree['emvs'][edge['id']]\n",
    "                        calc_voi[1] = True\n",
    "            if calc_voi == [True, True]:\n",
    "                tree['voi'] = emv_wi - emv_woi\n",
    "      \n",
    "\n",
    "\n",
    "\n",
    "def print_tree(tree, level=0):\n",
    "    if level == 0:\n",
    "        print('|','-'*level,  f\" {tree['type']} : {tree['name'] if 'name' in tree else ''} [ {tree['emv']}]\" )\n",
    "    else:\n",
    "        if 'child_node' in tree:\n",
    "            print('|', '-'*level,  \n",
    "                  f\" {tree['name']} \",\n",
    "                  f\" [payoff:{tree['payoff']} { (' p = ' + str(tree['probability'])) if 'probability' in tree else '' }] -> \",\n",
    "                  f\"  {tree['child_node']['type']} : {tree['child_node']['name'] if 'name' in tree['child_node'] else ''} [ emv = {tree['child_node']['emv']}]\",\n",
    "                  f\" ({tree['child_node']['p']} {tree['child_node']['v']})\" if tree['child_node']['type']=='terminal' else '' )\n",
    "\n",
    "\n",
    "    if 'child_edges' in tree:\n",
    "        for edge in tree['child_edges']:\n",
    "            print_tree(edge, level=level+2)\n",
    "            print_tree(edge['child_node'], level=level+2)\n",
    "\n",
    "solve_tree(tree)\n",
    "print('===========================')\n",
    "print_tree(tree)"
   ]
  },
  {
   "cell_type": "code",
   "execution_count": 58,
   "metadata": {},
   "outputs": [
    {
     "data": {
      "text/plain": [
       "{'name': 'Покупать',\n",
       " 'type': 'decision',\n",
       " 'child_edges': [{'name': 'Да',\n",
       "   'voi_info': 'with_info',\n",
       "   'payoff': -100,\n",
       "   'child_node': {'name': 'Успех',\n",
       "    'type': 'chance',\n",
       "    'child_edges': [{'name': 'Да',\n",
       "      'payoff': 1000,\n",
       "      'probability': 0.6,\n",
       "      'child_node': {'type': 'terminal', 'emv': 0, 'v': 900, 'p': 0.6}},\n",
       "     {'name': 'Нет',\n",
       "      'payoff': -10,\n",
       "      'probability': 0.4,\n",
       "      'child_node': {'type': 'terminal', 'emv': 0, 'v': -110, 'p': 0.4}}],\n",
       "    'emv': 596.0},\n",
       "   'id': 0,\n",
       "   'probability': 0},\n",
       "  {'name': 'Нет',\n",
       "   'voi_info': 'without_info',\n",
       "   'payoff': 1000,\n",
       "   'child_node': {'type': 'terminal', 'emv': 0, 'v': 1000, 'p': 1},\n",
       "   'id': 1,\n",
       "   'probability': 1}],\n",
       " 'emv': 1000,\n",
       " 'emvs': {0: 496.0, 1: 1000},\n",
       " 'voi': -504.0}"
      ]
     },
     "execution_count": 58,
     "metadata": {},
     "output_type": "execute_result"
    }
   ],
   "source": [
    "tree"
   ]
  },
  {
   "cell_type": "code",
   "execution_count": 34,
   "metadata": {},
   "outputs": [],
   "source": [
    "tree2 = {\"name\": \"Покупать\",\n",
    "        \"type\": \"decision\",\n",
    "        \"child_edges\":[\n",
    "                        {\"name\": \"Да\",\n",
    "                         \"payoff\": -100,\n",
    "                         \"child_node\": \n",
    "                                {\"name\": \"Успех\",\n",
    "                                 \"type\": \"chance\",\n",
    "                                 \"child_edges\": [\n",
    "                                                    {\"name\": \"Да\",\n",
    "                                                    \"payoff\": 100,\n",
    "                                                    \"probability\": 0.6,\n",
    "                                                    \"child_node\": \n",
    "                                                                    {\"name\": \"Результат\",\n",
    "                                                                     \"type\": \"chance\",\n",
    "                                                                     \"child_edges\": [\n",
    "                                                                                        {\"name\": \"Да\",\n",
    "                                                                                        \"payoff\": 1000,\n",
    "                                                                                        \"probability\": 0.8,\n",
    "                                                                                        \"child_node\": {\"type\": \"terminal\"}\n",
    "                                                                                        },\n",
    "                                                                                        {\"name\": \"Нет\",\n",
    "                                                                                        \"payoff\": -10,\n",
    "                                                                                        \"probability\": 0.2,\n",
    "                                                                                        \"child_node\": {\"type\": \"terminal\"}\n",
    "                                                                                        },\n",
    "                                                                                    ]  \n",
    "                                                                    }\n",
    "                                                                \n",
    "                                                     \n",
    "                                                    },\n",
    "                                                    {\"name\": \"Нет\",\n",
    "                                                    \"payoff\": -10,\n",
    "                                                    \"probability\": 0.4,\n",
    "                                                    \"child_node\": {\"type\": \"terminal\"}\n",
    "                                                    },\n",
    "                                                ]  \n",
    "                                }\n",
    "                        },\n",
    "                        {\"name\": \"Нет\",\n",
    "                         \"payoff\": -100,\n",
    "                         \"child_node\": {\"type\": \"terminal\"}\n",
    "                        }\n",
    "                    ]  \n",
    "        }"
   ]
  },
  {
   "cell_type": "code",
   "execution_count": 35,
   "metadata": {},
   "outputs": [
    {
     "name": "stdout",
     "output_type": "stream",
     "text": [
      "===========================\n",
      "|   decision : Покупать [ 434.79999999999995]\n",
      "| --  Да   [payoff:-100  p = 1] ->    chance : Успех [ emv = 534.8] \n",
      "| ----  Да   [payoff:100  p = 0.6] ->    chance : Результат [ emv = 798.0] \n",
      "| ------  Да   [payoff:1000  p = 0.8] ->    terminal :  [ emv = 0]  (0.8 1000)\n",
      "| ------  Нет   [payoff:-10  p = 0.2] ->    terminal :  [ emv = 0]  (0.2 -10)\n",
      "| ----  Нет   [payoff:-10  p = 0.4] ->    terminal :  [ emv = 0]  (0.4 -110)\n",
      "| --  Нет   [payoff:-100  p = 0] ->    terminal :  [ emv = 0]  (0 -100)\n"
     ]
    }
   ],
   "source": [
    "solve_tree(tree2)\n",
    "print('===========================')\n",
    "print_tree(tree2)"
   ]
  },
  {
   "cell_type": "code",
   "execution_count": 36,
   "metadata": {},
   "outputs": [
    {
     "data": {
      "text/plain": [
       "{'name': 'Покупать',\n",
       " 'type': 'decision',\n",
       " 'child_edges': [{'name': 'Да',\n",
       "   'payoff': -100,\n",
       "   'child_node': {'name': 'Успех',\n",
       "    'type': 'chance',\n",
       "    'child_edges': [{'name': 'Да',\n",
       "      'payoff': 100,\n",
       "      'probability': 0.6,\n",
       "      'child_node': {'name': 'Результат',\n",
       "       'type': 'chance',\n",
       "       'child_edges': [{'name': 'Да',\n",
       "         'payoff': 1000,\n",
       "         'probability': 0.8,\n",
       "         'child_node': {'type': 'terminal', 'emv': 0, 'v': 1000, 'p': 0.8}},\n",
       "        {'name': 'Нет',\n",
       "         'payoff': -10,\n",
       "         'probability': 0.2,\n",
       "         'child_node': {'type': 'terminal', 'emv': 0, 'v': -10, 'p': 0.2}}],\n",
       "       'emv': 798.0}},\n",
       "     {'name': 'Нет',\n",
       "      'payoff': -10,\n",
       "      'probability': 0.4,\n",
       "      'child_node': {'type': 'terminal', 'emv': 0, 'v': -110, 'p': 0.4}}],\n",
       "    'emv': 534.8},\n",
       "   'id': 0,\n",
       "   'probability': 1},\n",
       "  {'name': 'Нет',\n",
       "   'payoff': -100,\n",
       "   'child_node': {'type': 'terminal', 'emv': 0, 'v': -100, 'p': 0},\n",
       "   'id': 1,\n",
       "   'probability': 0}],\n",
       " 'emv': 434.79999999999995,\n",
       " 'emvs': {0: 434.79999999999995, 1: -100}}"
      ]
     },
     "execution_count": 36,
     "metadata": {},
     "output_type": "execute_result"
    }
   ],
   "source": [
    "tree2"
   ]
  },
  {
   "cell_type": "code",
   "execution_count": 24,
   "metadata": {},
   "outputs": [],
   "source": [
    "d = {1:2, 3:4}\n"
   ]
  },
  {
   "cell_type": "code",
   "execution_count": 25,
   "metadata": {},
   "outputs": [
    {
     "data": {
      "text/plain": [
       "{1: 2, 3: 4}"
      ]
     },
     "execution_count": 25,
     "metadata": {},
     "output_type": "execute_result"
    }
   ],
   "source": [
    "d"
   ]
  },
  {
   "cell_type": "code",
   "execution_count": 29,
   "metadata": {},
   "outputs": [
    {
     "data": {
      "text/plain": [
       "3"
      ]
     },
     "execution_count": 29,
     "metadata": {},
     "output_type": "execute_result"
    }
   ],
   "source": [
    "max(d)"
   ]
  },
  {
   "cell_type": "code",
   "execution_count": 52,
   "metadata": {},
   "outputs": [],
   "source": [
    "\n",
    "calc_voi = [False,False]"
   ]
  },
  {
   "cell_type": "code",
   "execution_count": 55,
   "metadata": {},
   "outputs": [
    {
     "data": {
      "text/plain": [
       "True"
      ]
     },
     "execution_count": 55,
     "metadata": {},
     "output_type": "execute_result"
    }
   ],
   "source": [
    "calc_voi == [True, False]"
   ]
  },
  {
   "cell_type": "code",
   "execution_count": 56,
   "metadata": {},
   "outputs": [
    {
     "ename": "NameError",
     "evalue": "name 'mult' is not defined",
     "output_type": "error",
     "traceback": [
      "\u001b[0;31m---------------------------------------------------------------------------\u001b[0m",
      "\u001b[0;31mNameError\u001b[0m                                 Traceback (most recent call last)",
      "Cell \u001b[0;32mIn[56], line 1\u001b[0m\n\u001b[0;32m----> 1\u001b[0m \u001b[43mmult\u001b[49m\n",
      "\u001b[0;31mNameError\u001b[0m: name 'mult' is not defined"
     ]
    }
   ],
   "source": [
    "mult"
   ]
  },
  {
   "cell_type": "code",
   "execution_count": 60,
   "metadata": {},
   "outputs": [],
   "source": [
    "import mermaid as mmd"
   ]
  },
  {
   "cell_type": "code",
   "execution_count": 61,
   "metadata": {},
   "outputs": [
    {
     "data": {
      "text/plain": [
       "'0.6.0'"
      ]
     },
     "execution_count": 61,
     "metadata": {},
     "output_type": "execute_result"
    }
   ],
   "source": [
    "mmd.__version__"
   ]
  },
  {
   "cell_type": "code",
   "execution_count": 63,
   "metadata": {},
   "outputs": [
    {
     "data": {
      "text/html": [
       "<svg id=\"mermaid-svg\" width=\"100%\" xmlns=\"http://www.w3.org/2000/svg\" class=\"flowchart\" style=\"max-width: 391.34375px;\" viewBox=\"0 0 391.34375 70\" role=\"graphics-document document\" aria-roledescription=\"flowchart-v2\" xmlns:xlink=\"http://www.w3.org/1999/xlink\"><style xmlns=\"http://www.w3.org/1999/xhtml\">@import url(\"https://cdnjs.cloudflare.com/ajax/libs/font-awesome/6.6.0/css/all.min.css\");</style><style>#mermaid-svg{font-family:\"trebuchet ms\",verdana,arial,sans-serif;font-size:16px;fill:#333;}#mermaid-svg .error-icon{fill:#552222;}#mermaid-svg .error-text{fill:#552222;stroke:#552222;}#mermaid-svg .edge-thickness-normal{stroke-width:1px;}#mermaid-svg .edge-thickness-thick{stroke-width:3.5px;}#mermaid-svg .edge-pattern-solid{stroke-dasharray:0;}#mermaid-svg .edge-thickness-invisible{stroke-width:0;fill:none;}#mermaid-svg .edge-pattern-dashed{stroke-dasharray:3;}#mermaid-svg .edge-pattern-dotted{stroke-dasharray:2;}#mermaid-svg .marker{fill:#333333;stroke:#333333;}#mermaid-svg .marker.cross{stroke:#333333;}#mermaid-svg svg{font-family:\"trebuchet ms\",verdana,arial,sans-serif;font-size:16px;}#mermaid-svg p{margin:0;}#mermaid-svg .label{font-family:\"trebuchet ms\",verdana,arial,sans-serif;color:#333;}#mermaid-svg .cluster-label text{fill:#333;}#mermaid-svg .cluster-label span{color:#333;}#mermaid-svg .cluster-label span p{background-color:transparent;}#mermaid-svg .label text,#mermaid-svg span{fill:#333;color:#333;}#mermaid-svg .node rect,#mermaid-svg .node circle,#mermaid-svg .node ellipse,#mermaid-svg .node polygon,#mermaid-svg .node path{fill:#ECECFF;stroke:#9370DB;stroke-width:1px;}#mermaid-svg .rough-node .label text,#mermaid-svg .node .label text{text-anchor:middle;}#mermaid-svg .node .katex path{fill:#000;stroke:#000;stroke-width:1px;}#mermaid-svg .node .label{text-align:center;}#mermaid-svg .node.clickable{cursor:pointer;}#mermaid-svg .arrowheadPath{fill:#333333;}#mermaid-svg .edgePath .path{stroke:#333333;stroke-width:2.0px;}#mermaid-svg .flowchart-link{stroke:#333333;fill:none;}#mermaid-svg .edgeLabel{background-color:rgba(232,232,232, 0.8);text-align:center;}#mermaid-svg .edgeLabel p{background-color:rgba(232,232,232, 0.8);}#mermaid-svg .edgeLabel rect{opacity:0.5;background-color:rgba(232,232,232, 0.8);fill:rgba(232,232,232, 0.8);}#mermaid-svg .labelBkg{background-color:rgba(232, 232, 232, 0.5);}#mermaid-svg .cluster rect{fill:#ffffde;stroke:#aaaa33;stroke-width:1px;}#mermaid-svg .cluster text{fill:#333;}#mermaid-svg .cluster span{color:#333;}#mermaid-svg div.mermaidTooltip{position:absolute;text-align:center;max-width:200px;padding:2px;font-family:\"trebuchet ms\",verdana,arial,sans-serif;font-size:12px;background:hsl(80, 100%, 96.2745098039%);border:1px solid #aaaa33;border-radius:2px;pointer-events:none;z-index:100;}#mermaid-svg .flowchartTitleText{text-anchor:middle;font-size:18px;fill:#333;}#mermaid-svg :root{--mermaid-font-family:\"trebuchet ms\",verdana,arial,sans-serif;}</style><g><marker id=\"mermaid-svg_flowchart-v2-pointEnd\" class=\"marker flowchart-v2\" viewBox=\"0 0 10 10\" refX=\"5\" refY=\"5\" markerUnits=\"userSpaceOnUse\" markerWidth=\"8\" markerHeight=\"8\" orient=\"auto\"><path d=\"M 0 0 L 10 5 L 0 10 z\" class=\"arrowMarkerPath\" style=\"stroke-width: 1; stroke-dasharray: 1, 0;\"/></marker><marker id=\"mermaid-svg_flowchart-v2-pointStart\" class=\"marker flowchart-v2\" viewBox=\"0 0 10 10\" refX=\"4.5\" refY=\"5\" markerUnits=\"userSpaceOnUse\" markerWidth=\"8\" markerHeight=\"8\" orient=\"auto\"><path d=\"M 0 5 L 10 10 L 10 0 z\" class=\"arrowMarkerPath\" style=\"stroke-width: 1; stroke-dasharray: 1, 0;\"/></marker><marker id=\"mermaid-svg_flowchart-v2-circleEnd\" class=\"marker flowchart-v2\" viewBox=\"0 0 10 10\" refX=\"11\" refY=\"5\" markerUnits=\"userSpaceOnUse\" markerWidth=\"11\" markerHeight=\"11\" orient=\"auto\"><circle cx=\"5\" cy=\"5\" r=\"5\" class=\"arrowMarkerPath\" style=\"stroke-width: 1; stroke-dasharray: 1, 0;\"/></marker><marker id=\"mermaid-svg_flowchart-v2-circleStart\" class=\"marker flowchart-v2\" viewBox=\"0 0 10 10\" refX=\"-1\" refY=\"5\" markerUnits=\"userSpaceOnUse\" markerWidth=\"11\" markerHeight=\"11\" orient=\"auto\"><circle cx=\"5\" cy=\"5\" r=\"5\" class=\"arrowMarkerPath\" style=\"stroke-width: 1; stroke-dasharray: 1, 0;\"/></marker><marker id=\"mermaid-svg_flowchart-v2-crossEnd\" class=\"marker cross flowchart-v2\" viewBox=\"0 0 11 11\" refX=\"12\" refY=\"5.2\" markerUnits=\"userSpaceOnUse\" markerWidth=\"11\" markerHeight=\"11\" orient=\"auto\"><path d=\"M 1,1 l 9,9 M 10,1 l -9,9\" class=\"arrowMarkerPath\" style=\"stroke-width: 2; stroke-dasharray: 1, 0;\"/></marker><marker id=\"mermaid-svg_flowchart-v2-crossStart\" class=\"marker cross flowchart-v2\" viewBox=\"0 0 11 11\" refX=\"-1\" refY=\"5.2\" markerUnits=\"userSpaceOnUse\" markerWidth=\"11\" markerHeight=\"11\" orient=\"auto\"><path d=\"M 1,1 l 9,9 M 10,1 l -9,9\" class=\"arrowMarkerPath\" style=\"stroke-width: 2; stroke-dasharray: 1, 0;\"/></marker><g class=\"root\"><g class=\"clusters\"/><g class=\"edgePaths\"><path d=\"M77.438,35L84.057,35C90.677,35,103.917,35,113.846,35C123.776,35,130.396,35,136.349,35C142.302,35,147.589,35,150.232,35L152.875,35\" id=\"L_A_B_0\" class=\" edge-thickness-normal edge-pattern-solid edge-thickness-normal edge-pattern-solid flowchart-link\" style=\"\" marker-end=\"url(#mermaid-svg_flowchart-v2-pointEnd)\"/><path d=\"M225.938,35L233.257,35C240.576,35,255.214,35,266.192,35C277.171,35,284.49,35,291.142,35C297.794,35,303.78,35,306.773,35L309.766,35\" id=\"L_B_C_1\" class=\" edge-thickness-normal edge-pattern-solid edge-thickness-normal edge-pattern-solid flowchart-link\" style=\"\" marker-end=\"url(#mermaid-svg_flowchart-v2-pointEnd)\"/></g><g class=\"edgeLabels\"><g class=\"edgeLabel\" transform=\"translate(117.15625, 35)\"><g class=\"label\" transform=\"translate(-14.71875, -12)\"><foreignObject width=\"29.4375\" height=\"24\"><div xmlns=\"http://www.w3.org/1999/xhtml\" class=\"labelBkg\" style=\"display: table-cell; white-space: nowrap; line-height: 1.5; max-width: 200px; text-align: center;\"><span class=\"edgeLabel \"><p>text</p></span></div></foreignObject></g></g><g class=\"edgeLabel\" transform=\"translate(269.8515625, 35)\"><g class=\"label\" transform=\"translate(-18.9140625, -12)\"><foreignObject width=\"37.828125\" height=\"24\"><div xmlns=\"http://www.w3.org/1999/xhtml\" class=\"labelBkg\" style=\"display: table-cell; white-space: nowrap; line-height: 1.5; max-width: 200px; text-align: center;\"><span class=\"edgeLabel \"><p>text2</p></span></div></foreignObject></g></g></g><g class=\"nodes\"><g class=\"node default  \" id=\"flowchart-A-0\" transform=\"translate(42.71875, 35)\"><rect class=\"basic label-container\" style=\"\" data-id=\"abc\" data-et=\"node\" x=\"-34.71875\" y=\"-27\" width=\"69.4375\" height=\"54\"/><g class=\"label\" style=\"\" transform=\"translate(-4.71875, -12)\"><rect/><foreignObject width=\"9.4375\" height=\"24\"><div xmlns=\"http://www.w3.org/1999/xhtml\" style=\"display: table-cell; white-space: nowrap; line-height: 1.5; max-width: 200px; text-align: center;\"><span class=\"nodeLabel \"><p>A</p></span></div></foreignObject></g></g><g class=\"node default  \" id=\"flowchart-B-1\" transform=\"translate(191.40625, 35)\"><rect class=\"basic label-container\" style=\"\" data-id=\"abc\" data-et=\"node\" x=\"-34.53125\" y=\"-27\" width=\"69.0625\" height=\"54\"/><g class=\"label\" style=\"\" transform=\"translate(-4.53125, -12)\"><rect/><foreignObject width=\"9.0625\" height=\"24\"><div xmlns=\"http://www.w3.org/1999/xhtml\" style=\"display: table-cell; white-space: nowrap; line-height: 1.5; max-width: 200px; text-align: center;\"><span class=\"nodeLabel \"><p>B</p></span></div></foreignObject></g></g><g class=\"node default  \" id=\"flowchart-C-2\" transform=\"translate(348.5546875, 35)\"><rect class=\"basic label-container\" style=\"\" data-id=\"abc\" data-et=\"node\" x=\"-34.7890625\" y=\"-27\" width=\"69.578125\" height=\"54\"/><g class=\"label\" style=\"\" transform=\"translate(-4.7890625, -12)\"><rect/><foreignObject width=\"9.578125\" height=\"24\"><div xmlns=\"http://www.w3.org/1999/xhtml\" style=\"display: table-cell; white-space: nowrap; line-height: 1.5; max-width: 200px; text-align: center;\"><span class=\"nodeLabel \"><p>C</p></span></div></foreignObject></g></g></g></g></g></svg>"
      ],
      "text/plain": [
       "<mermaid.__main__.Mermaid at 0x7f1eb84631f0>"
      ]
     },
     "metadata": {},
     "output_type": "display_data"
    }
   ],
   "source": [
    "\n",
    "%%mermaidjs\n",
    "flowchart LR\n",
    "   A -- text --> B -- text2 --> C"
   ]
  },
  {
   "cell_type": "code",
   "execution_count": 62,
   "metadata": {},
   "outputs": [
    {
     "data": {
      "text/html": [
       "<svg id=\"mermaid-svg\" width=\"100%\" xmlns=\"http://www.w3.org/2000/svg\" style=\"max-width: 674.6117553710938px;\" viewBox=\"5 5 674.6117553710938 678.2800903320312\" role=\"graphics-document document\" aria-roledescription=\"mindmap\" xmlns:xlink=\"http://www.w3.org/1999/xlink\"><style xmlns=\"http://www.w3.org/1999/xhtml\">@import url(\"https://cdnjs.cloudflare.com/ajax/libs/font-awesome/6.6.0/css/all.min.css\");</style><style>#mermaid-svg{font-family:\"trebuchet ms\",verdana,arial,sans-serif;font-size:16px;fill:#333;}#mermaid-svg .error-icon{fill:#552222;}#mermaid-svg .error-text{fill:#552222;stroke:#552222;}#mermaid-svg .edge-thickness-normal{stroke-width:1px;}#mermaid-svg .edge-thickness-thick{stroke-width:3.5px;}#mermaid-svg .edge-pattern-solid{stroke-dasharray:0;}#mermaid-svg .edge-thickness-invisible{stroke-width:0;fill:none;}#mermaid-svg .edge-pattern-dashed{stroke-dasharray:3;}#mermaid-svg .edge-pattern-dotted{stroke-dasharray:2;}#mermaid-svg .marker{fill:#333333;stroke:#333333;}#mermaid-svg .marker.cross{stroke:#333333;}#mermaid-svg svg{font-family:\"trebuchet ms\",verdana,arial,sans-serif;font-size:16px;}#mermaid-svg p{margin:0;}#mermaid-svg .edge{stroke-width:3;}#mermaid-svg .section--1 rect,#mermaid-svg .section--1 path,#mermaid-svg .section--1 circle,#mermaid-svg .section--1 polygon,#mermaid-svg .section--1 path{fill:hsl(240, 100%, 76.2745098039%);}#mermaid-svg .section--1 text{fill:#ffffff;}#mermaid-svg .node-icon--1{font-size:40px;color:#ffffff;}#mermaid-svg .section-edge--1{stroke:hsl(240, 100%, 76.2745098039%);}#mermaid-svg .edge-depth--1{stroke-width:17;}#mermaid-svg .section--1 line{stroke:hsl(60, 100%, 86.2745098039%);stroke-width:3;}#mermaid-svg .disabled,#mermaid-svg .disabled circle,#mermaid-svg .disabled text{fill:lightgray;}#mermaid-svg .disabled text{fill:#efefef;}#mermaid-svg .section-0 rect,#mermaid-svg .section-0 path,#mermaid-svg .section-0 circle,#mermaid-svg .section-0 polygon,#mermaid-svg .section-0 path{fill:hsl(60, 100%, 73.5294117647%);}#mermaid-svg .section-0 text{fill:black;}#mermaid-svg .node-icon-0{font-size:40px;color:black;}#mermaid-svg .section-edge-0{stroke:hsl(60, 100%, 73.5294117647%);}#mermaid-svg .edge-depth-0{stroke-width:14;}#mermaid-svg .section-0 line{stroke:hsl(240, 100%, 83.5294117647%);stroke-width:3;}#mermaid-svg .disabled,#mermaid-svg .disabled circle,#mermaid-svg .disabled text{fill:lightgray;}#mermaid-svg .disabled text{fill:#efefef;}#mermaid-svg .section-1 rect,#mermaid-svg .section-1 path,#mermaid-svg .section-1 circle,#mermaid-svg .section-1 polygon,#mermaid-svg .section-1 path{fill:hsl(80, 100%, 76.2745098039%);}#mermaid-svg .section-1 text{fill:black;}#mermaid-svg .node-icon-1{font-size:40px;color:black;}#mermaid-svg .section-edge-1{stroke:hsl(80, 100%, 76.2745098039%);}#mermaid-svg .edge-depth-1{stroke-width:11;}#mermaid-svg .section-1 line{stroke:hsl(260, 100%, 86.2745098039%);stroke-width:3;}#mermaid-svg .disabled,#mermaid-svg .disabled circle,#mermaid-svg .disabled text{fill:lightgray;}#mermaid-svg .disabled text{fill:#efefef;}#mermaid-svg .section-2 rect,#mermaid-svg .section-2 path,#mermaid-svg .section-2 circle,#mermaid-svg .section-2 polygon,#mermaid-svg .section-2 path{fill:hsl(270, 100%, 76.2745098039%);}#mermaid-svg .section-2 text{fill:#ffffff;}#mermaid-svg .node-icon-2{font-size:40px;color:#ffffff;}#mermaid-svg .section-edge-2{stroke:hsl(270, 100%, 76.2745098039%);}#mermaid-svg .edge-depth-2{stroke-width:8;}#mermaid-svg .section-2 line{stroke:hsl(90, 100%, 86.2745098039%);stroke-width:3;}#mermaid-svg .disabled,#mermaid-svg .disabled circle,#mermaid-svg .disabled text{fill:lightgray;}#mermaid-svg .disabled text{fill:#efefef;}#mermaid-svg .section-3 rect,#mermaid-svg .section-3 path,#mermaid-svg .section-3 circle,#mermaid-svg .section-3 polygon,#mermaid-svg .section-3 path{fill:hsl(300, 100%, 76.2745098039%);}#mermaid-svg .section-3 text{fill:black;}#mermaid-svg .node-icon-3{font-size:40px;color:black;}#mermaid-svg .section-edge-3{stroke:hsl(300, 100%, 76.2745098039%);}#mermaid-svg .edge-depth-3{stroke-width:5;}#mermaid-svg .section-3 line{stroke:hsl(120, 100%, 86.2745098039%);stroke-width:3;}#mermaid-svg .disabled,#mermaid-svg .disabled circle,#mermaid-svg .disabled text{fill:lightgray;}#mermaid-svg .disabled text{fill:#efefef;}#mermaid-svg .section-4 rect,#mermaid-svg .section-4 path,#mermaid-svg .section-4 circle,#mermaid-svg .section-4 polygon,#mermaid-svg .section-4 path{fill:hsl(330, 100%, 76.2745098039%);}#mermaid-svg .section-4 text{fill:black;}#mermaid-svg .node-icon-4{font-size:40px;color:black;}#mermaid-svg .section-edge-4{stroke:hsl(330, 100%, 76.2745098039%);}#mermaid-svg .edge-depth-4{stroke-width:2;}#mermaid-svg .section-4 line{stroke:hsl(150, 100%, 86.2745098039%);stroke-width:3;}#mermaid-svg .disabled,#mermaid-svg .disabled circle,#mermaid-svg .disabled text{fill:lightgray;}#mermaid-svg .disabled text{fill:#efefef;}#mermaid-svg .section-5 rect,#mermaid-svg .section-5 path,#mermaid-svg .section-5 circle,#mermaid-svg .section-5 polygon,#mermaid-svg .section-5 path{fill:hsl(0, 100%, 76.2745098039%);}#mermaid-svg .section-5 text{fill:black;}#mermaid-svg .node-icon-5{font-size:40px;color:black;}#mermaid-svg .section-edge-5{stroke:hsl(0, 100%, 76.2745098039%);}#mermaid-svg .edge-depth-5{stroke-width:-1;}#mermaid-svg .section-5 line{stroke:hsl(180, 100%, 86.2745098039%);stroke-width:3;}#mermaid-svg .disabled,#mermaid-svg .disabled circle,#mermaid-svg .disabled text{fill:lightgray;}#mermaid-svg .disabled text{fill:#efefef;}#mermaid-svg .section-6 rect,#mermaid-svg .section-6 path,#mermaid-svg .section-6 circle,#mermaid-svg .section-6 polygon,#mermaid-svg .section-6 path{fill:hsl(30, 100%, 76.2745098039%);}#mermaid-svg .section-6 text{fill:black;}#mermaid-svg .node-icon-6{font-size:40px;color:black;}#mermaid-svg .section-edge-6{stroke:hsl(30, 100%, 76.2745098039%);}#mermaid-svg .edge-depth-6{stroke-width:-4;}#mermaid-svg .section-6 line{stroke:hsl(210, 100%, 86.2745098039%);stroke-width:3;}#mermaid-svg .disabled,#mermaid-svg .disabled circle,#mermaid-svg .disabled text{fill:lightgray;}#mermaid-svg .disabled text{fill:#efefef;}#mermaid-svg .section-7 rect,#mermaid-svg .section-7 path,#mermaid-svg .section-7 circle,#mermaid-svg .section-7 polygon,#mermaid-svg .section-7 path{fill:hsl(90, 100%, 76.2745098039%);}#mermaid-svg .section-7 text{fill:black;}#mermaid-svg .node-icon-7{font-size:40px;color:black;}#mermaid-svg .section-edge-7{stroke:hsl(90, 100%, 76.2745098039%);}#mermaid-svg .edge-depth-7{stroke-width:-7;}#mermaid-svg .section-7 line{stroke:hsl(270, 100%, 86.2745098039%);stroke-width:3;}#mermaid-svg .disabled,#mermaid-svg .disabled circle,#mermaid-svg .disabled text{fill:lightgray;}#mermaid-svg .disabled text{fill:#efefef;}#mermaid-svg .section-8 rect,#mermaid-svg .section-8 path,#mermaid-svg .section-8 circle,#mermaid-svg .section-8 polygon,#mermaid-svg .section-8 path{fill:hsl(150, 100%, 76.2745098039%);}#mermaid-svg .section-8 text{fill:black;}#mermaid-svg .node-icon-8{font-size:40px;color:black;}#mermaid-svg .section-edge-8{stroke:hsl(150, 100%, 76.2745098039%);}#mermaid-svg .edge-depth-8{stroke-width:-10;}#mermaid-svg .section-8 line{stroke:hsl(330, 100%, 86.2745098039%);stroke-width:3;}#mermaid-svg .disabled,#mermaid-svg .disabled circle,#mermaid-svg .disabled text{fill:lightgray;}#mermaid-svg .disabled text{fill:#efefef;}#mermaid-svg .section-9 rect,#mermaid-svg .section-9 path,#mermaid-svg .section-9 circle,#mermaid-svg .section-9 polygon,#mermaid-svg .section-9 path{fill:hsl(180, 100%, 76.2745098039%);}#mermaid-svg .section-9 text{fill:black;}#mermaid-svg .node-icon-9{font-size:40px;color:black;}#mermaid-svg .section-edge-9{stroke:hsl(180, 100%, 76.2745098039%);}#mermaid-svg .edge-depth-9{stroke-width:-13;}#mermaid-svg .section-9 line{stroke:hsl(0, 100%, 86.2745098039%);stroke-width:3;}#mermaid-svg .disabled,#mermaid-svg .disabled circle,#mermaid-svg .disabled text{fill:lightgray;}#mermaid-svg .disabled text{fill:#efefef;}#mermaid-svg .section-10 rect,#mermaid-svg .section-10 path,#mermaid-svg .section-10 circle,#mermaid-svg .section-10 polygon,#mermaid-svg .section-10 path{fill:hsl(210, 100%, 76.2745098039%);}#mermaid-svg .section-10 text{fill:black;}#mermaid-svg .node-icon-10{font-size:40px;color:black;}#mermaid-svg .section-edge-10{stroke:hsl(210, 100%, 76.2745098039%);}#mermaid-svg .edge-depth-10{stroke-width:-16;}#mermaid-svg .section-10 line{stroke:hsl(30, 100%, 86.2745098039%);stroke-width:3;}#mermaid-svg .disabled,#mermaid-svg .disabled circle,#mermaid-svg .disabled text{fill:lightgray;}#mermaid-svg .disabled text{fill:#efefef;}#mermaid-svg .section-root rect,#mermaid-svg .section-root path,#mermaid-svg .section-root circle,#mermaid-svg .section-root polygon{fill:hsl(240, 100%, 46.2745098039%);}#mermaid-svg .section-root text{fill:#ffffff;}#mermaid-svg .icon-container{height:100%;display:flex;justify-content:center;align-items:center;}#mermaid-svg .edge{fill:none;}#mermaid-svg .mindmap-node-label{dy:1em;alignment-baseline:middle;text-anchor:middle;dominant-baseline:middle;text-align:center;}#mermaid-svg :root{--mermaid-font-family:\"trebuchet ms\",verdana,arial,sans-serif;}</style><g/><g class=\"mindmap-edges\"><path d=\"M 294.76176393360913,210.45138930199022 L 233.31391111087356,182.48693762542567 L171.866058288138,154.5224859488611 \" class=\"edge section-edge-0 edge-depth-1\"/><path d=\"M 390.64253167173155,128.02378626438036 L 387.4590279384729,92.83139351400578 L384.27552420521425,57.63900076363119 \" class=\"edge section-edge-0 edge-depth-2\"/><path d=\"M 319.6650026870724,206.74368477186349 L 350.20418015422126,179.81370470430718 L380.74335762137014,152.88372463675088 \" class=\"edge section-edge-0 edge-depth-1\"/><path d=\"M 297.2565173444651,293.91010304870895 L 301.76325285377095,262.7103216291529 L306.2699883630768,231.51054020959683 \" class=\"edge section-edge-0 edge-depth-0\"/><path d=\"M 370.1605531822537,387.0196784829915 L 435.42205704851426,369.8308489369354 L500.68356091477483,352.64201939087934 \" class=\"edge section-edge-1 edge-depth-1\"/><path d=\"M 440.3915659901314,567.6259407318421 L 506.74120450030694,563.1662019724299 L573.0908430104824,558.7064632130177 \" class=\"edge section-edge-1 edge-depth-3\"/><path d=\"M 432.7296004226408,581.7333464508088 L 449.32834466806094,611.5060166968511 L465.9270889134811,641.2786869428935 \" class=\"edge section-edge-1 edge-depth-3\"/><path d=\"M 410.62357551387237,571.062519544014 L 346.3518681092471,581.6166450750671 L282.08016070462185,592.1707706061203 \" class=\"edge section-edge-1 edge-depth-3\"/><path d=\"M 389.7219420418386,494.628278863049 L 404.3146864777035,524.8751517857871 L418.9074309135684,555.1220247085253 \" class=\"edge section-edge-1 edge-depth-2\"/><path d=\"M 360.03325444517054,405.1870253946057 L 369.4296394940437,435.97927039641365 L378.8260245429169,466.7715153982216 \" class=\"edge section-edge-1 edge-depth-1\"/><path d=\"M 304.01577641934205,320.8276337077864 L 325.38365069236727,349.7980827546096 L346.7515249653925,378.7685318014328 \" class=\"edge section-edge-1 edge-depth-0\"/><path d=\"M 159.5470933094196,338.32142119686216 L 134.56622888814115,366.2586344552491 L109.58536446686271,394.195847713636 \" class=\"edge section-edge-2 edge-depth-1\"/><path d=\"M 156.1547039800949,320.3806161082081 L 112.63996266249069,298.4163697088948 L69.12522134488648,276.45212330958157 \" class=\"edge section-edge-2 edge-depth-1\"/><path d=\"M 280.27028022210504,310.9289458767185 L 232.32880471255714,317.947861527198 L184.38732920300922,324.96677717767744 \" class=\"edge section-edge-2 edge-depth-0\"/></g><g class=\"mindmap-nodes\"><g class=\"mindmap-node section--1 section-root\" transform=\"translate(252.0183091001329, 289.85602164064244)\" attr=\"apa-0)\"><g transform=\"translate(43.09375, 18.9)\"><circle id=\"node-0\" class=\"node-bkg node-circle\" r=\"43.09375\"/></g><g dy=\"1em\" alignment-baseline=\"middle\" dominant-baseline=\"middle\" text-anchor=\"middle\" transform=\"translate(43.09375, 5)\"><g><rect class=\"background\" style=\"stroke: none\"/><text y=\"-10.1\" style=\"\"><tspan class=\"text-outer-tspan\" x=\"0\" y=\"-0.1em\" dy=\"1.1em\"><tspan font-style=\"normal\" class=\"text-inner-tspan\" font-weight=\"normal\">mindmap</tspan></tspan></text></g></g></g><g class=\"mindmap-node section-0\" transform=\"translate(273.726946607409, 197.76462161766335)\" attr=\"apa-1)\"><g><path id=\"node-1\" class=\"node-bkg node-no-border\" d=\"M0 32.8 v-27.799999999999997 q0,-5 5,-5 h59.375 q5,0 5,5 v32.8 H0 Z\"/><line class=\"node-line-0\" x1=\"0\" y1=\"37.8\" x2=\"69.375\" y2=\"37.8\"/></g><g dy=\"1em\" alignment-baseline=\"middle\" dominant-baseline=\"middle\" text-anchor=\"middle\" transform=\"translate(34.6875, 5)\"><g><rect class=\"background\" style=\"stroke: none\"/><text y=\"-10.1\" style=\"\"><tspan class=\"text-outer-tspan\" x=\"0\" y=\"-0.1em\" dy=\"1.1em\"><tspan font-style=\"normal\" class=\"text-inner-tspan\" font-weight=\"normal\">Origins</tspan></tspan></text></g></g></g><g class=\"mindmap-node section-1\" transform=\"translate(313.7099297846016, 371.9401438685768)\" attr=\"apa-5)\"><g><path id=\"node-5\" class=\"node-bkg node-no-border\" d=\"M0 32.8 v-27.799999999999997 q0,-5 5,-5 h73.890625 q5,0 5,5 v32.8 H0 Z\"/><line class=\"node-line-1\" x1=\"0\" y1=\"37.8\" x2=\"83.890625\" y2=\"37.8\"/></g><g dy=\"1em\" alignment-baseline=\"middle\" dominant-baseline=\"middle\" text-anchor=\"middle\" transform=\"translate(41.9453125, 5)\"><g><rect class=\"background\" style=\"stroke: none\"/><text y=\"-10.1\" style=\"\"><tspan class=\"text-outer-tspan\" x=\"0\" y=\"-0.1em\" dy=\"1.1em\"><tspan font-style=\"normal\" class=\"text-inner-tspan\" font-weight=\"normal\">Research</tspan></tspan></text></g></g></g><g class=\"mindmap-node section-2\" transform=\"translate(141.70961282498138, 308.23970141375355)\" attr=\"apa-12)\"><g><path id=\"node-12\" class=\"node-bkg node-no-border\" d=\"M0 32.8 v-27.799999999999997 q0,-5 5,-5 h45.671875 q5,0 5,5 v32.8 H0 Z\"/><line class=\"node-line-2\" x1=\"0\" y1=\"37.8\" x2=\"55.671875\" y2=\"37.8\"/></g><g dy=\"1em\" alignment-baseline=\"middle\" dominant-baseline=\"middle\" text-anchor=\"middle\" transform=\"translate(27.8359375, 5)\"><g><rect class=\"background\" style=\"stroke: none\"/><text y=\"-10.1\" style=\"\"><tspan class=\"text-outer-tspan\" x=\"0\" y=\"-0.1em\" dy=\"1.1em\"><tspan font-style=\"normal\" class=\"text-inner-tspan\" font-weight=\"normal\">Tools</tspan></tspan></text></g></g></g><g class=\"mindmap-node section-0\" transform=\"translate(79.60400061433813, 118.30925363318795)\" attr=\"apa-2)\"><g><path id=\"node-2\" class=\"node-bkg node-no-border\" d=\"M0 55 v-50 q0,-5 5,-5 h147.21875 q5,0 5,5 v55 H0 Z\"/><line class=\"node-line-0\" x1=\"0\" y1=\"60\" x2=\"157.21875\" y2=\"60\"/></g><g dy=\"1em\" alignment-baseline=\"middle\" dominant-baseline=\"middle\" text-anchor=\"middle\" transform=\"translate(103.609375, 16.1)\"><g><rect class=\"background\" style=\"stroke: none\"/><text y=\"-10.1\" style=\"\"><tspan class=\"text-outer-tspan\" x=\"0\" y=\"-0.1em\" dy=\"1.1em\"><tspan font-style=\"normal\" class=\"text-inner-tspan\" font-weight=\"normal\">Long</tspan><tspan font-style=\"normal\" class=\"text-inner-tspan\" font-weight=\"normal\"> history</tspan></tspan></text></g></g><foreignObject width=\"60px\" height=\"60\" style=\"text-align: center;margin-top:11.100000000000001px;\"><div class=\"icon-container\" xmlns=\"http://www.w3.org/1999/xhtml\"><i class=\"node-icon-0 fa fa-barcode\"></i></div></foreignObject></g><g class=\"mindmap-node section-0\" transform=\"translate(331.27516370103353, 124.062787790951)\" attr=\"apa-3)\"><g><path id=\"node-3\" class=\"node-bkg node-no-border\" d=\"M0 32.8 v-27.799999999999997 q0,-5 5,-5 h111.4375 q5,0 5,5 v32.8 H0 Z\"/><line class=\"node-line-0\" x1=\"0\" y1=\"37.8\" x2=\"121.4375\" y2=\"37.8\"/></g><g dy=\"1em\" alignment-baseline=\"middle\" dominant-baseline=\"middle\" text-anchor=\"middle\" transform=\"translate(60.71875, 5)\"><g><rect class=\"background\" style=\"stroke: none\"/><text y=\"-10.1\" style=\"\"><tspan class=\"text-outer-tspan\" x=\"0\" y=\"-0.1em\" dy=\"1.1em\"><tspan font-style=\"normal\" class=\"text-inner-tspan\" font-weight=\"normal\">Popularisation</tspan></tspan></text></g></g></g><g class=\"mindmap-node section-1\" transform=\"translate(449.8294968124269, 321.1215547682335)\" attr=\"apa-6)\"><g><path id=\"node-6\" class=\"node-bkg node-no-border\" d=\"M0 50.39999847412109 v-45.39999847412109 q0,-5 5,-5 h120.71875 q5,0 5,5 v50.39999847412109 H0 Z\"/><line class=\"node-line-1\" x1=\"0\" y1=\"55.39999847412109\" x2=\"130.71875\" y2=\"55.39999847412109\"/></g><g dy=\"1em\" alignment-baseline=\"middle\" dominant-baseline=\"middle\" text-anchor=\"middle\" transform=\"translate(65.359375, 5)\"><g><rect class=\"background\" style=\"stroke: none\"/><text y=\"-10.1\" style=\"\"><tspan class=\"text-outer-tspan\" x=\"0\" y=\"-0.1em\" dy=\"1.1em\"><tspan font-style=\"normal\" class=\"text-inner-tspan\" font-weight=\"normal\">On</tspan><tspan font-style=\"normal\" class=\"text-inner-tspan\" font-weight=\"normal\"> effectivness</tspan></tspan><tspan class=\"text-outer-tspan\" x=\"0\" y=\"1em\" dy=\"1.1em\"><tspan font-style=\"normal\" class=\"text-inner-tspan\" font-weight=\"normal\">and</tspan><tspan font-style=\"normal\" class=\"text-inner-tspan\" font-weight=\"normal\"> features</tspan></tspan></text></g></g></g><g class=\"mindmap-node section-1\" transform=\"translate(292.4930992034858, 462.21839692425056)\" attr=\"apa-7)\"><g><path id=\"node-7\" class=\"node-bkg node-no-border\" d=\"M0 32.8 v-27.799999999999997 q0,-5 5,-5 h171.421875 q5,0 5,5 v32.8 H0 Z\"/><line class=\"node-line-1\" x1=\"0\" y1=\"37.8\" x2=\"181.421875\" y2=\"37.8\"/></g><g dy=\"1em\" alignment-baseline=\"middle\" dominant-baseline=\"middle\" text-anchor=\"middle\" transform=\"translate(90.7109375, 5)\"><g><rect class=\"background\" style=\"stroke: none\"/><text y=\"-10.1\" style=\"\"><tspan class=\"text-outer-tspan\" x=\"0\" y=\"-0.1em\" dy=\"1.1em\"><tspan font-style=\"normal\" class=\"text-inner-tspan\" font-weight=\"normal\">On</tspan><tspan font-style=\"normal\" class=\"text-inner-tspan\" font-weight=\"normal\"> Automatic</tspan><tspan font-style=\"normal\" class=\"text-inner-tspan\" font-weight=\"normal\"> creation</tspan></tspan></text></g></g></g><g class=\"mindmap-node section-2\" transform=\"translate(37.93065745130093, 386.47756749674465)\" attr=\"apa-13)\"><g><path id=\"node-13\" class=\"node-bkg node-no-border\" d=\"M0 32.8 v-27.799999999999997 q0,-5 5,-5 h113.3125 q5,0 5,5 v32.8 H0 Z\"/><line class=\"node-line-2\" x1=\"0\" y1=\"37.8\" x2=\"123.3125\" y2=\"37.8\"/></g><g dy=\"1em\" alignment-baseline=\"middle\" dominant-baseline=\"middle\" text-anchor=\"middle\" transform=\"translate(61.65625, 5)\"><g><rect class=\"background\" style=\"stroke: none\"/><text y=\"-10.1\" style=\"\"><tspan class=\"text-outer-tspan\" x=\"0\" y=\"-0.1em\" dy=\"1.1em\"><tspan font-style=\"normal\" class=\"text-inner-tspan\" font-weight=\"normal\">Pen</tspan><tspan font-style=\"normal\" class=\"text-inner-tspan\" font-weight=\"normal\"> and</tspan><tspan font-style=\"normal\" class=\"text-inner-tspan\" font-weight=\"normal\"> paper</tspan></tspan></text></g></g></g><g class=\"mindmap-node section-2\" transform=\"translate(15, 250.7930380040361)\" attr=\"apa-14)\"><g><path id=\"node-14\" class=\"node-bkg node-no-border\" d=\"M0 32.8 v-27.799999999999997 q0,-5 5,-5 h71.46875 q5,0 5,5 v32.8 H0 Z\"/><line class=\"node-line-2\" x1=\"0\" y1=\"37.8\" x2=\"81.46875\" y2=\"37.8\"/></g><g dy=\"1em\" alignment-baseline=\"middle\" dominant-baseline=\"middle\" text-anchor=\"middle\" transform=\"translate(40.734375, 5)\"><g><rect class=\"background\" style=\"stroke: none\"/><text y=\"-10.1\" style=\"\"><tspan class=\"text-outer-tspan\" x=\"0\" y=\"-0.1em\" dy=\"1.1em\"><tspan font-style=\"normal\" class=\"text-inner-tspan\" font-weight=\"normal\">Mermaid</tspan></tspan></text></g></g></g><g class=\"mindmap-node section-0\" transform=\"translate(278.93195467591227, 15)\" attr=\"apa-4)\"><g><path id=\"node-4\" class=\"node-bkg node-no-border\" d=\"M0 50.39999847412109 v-45.39999847412109 q0,-5 5,-5 h197.984375 q5,0 5,5 v50.39999847412109 H0 Z\"/><line class=\"node-line-0\" x1=\"0\" y1=\"55.39999847412109\" x2=\"207.984375\" y2=\"55.39999847412109\"/></g><g dy=\"1em\" alignment-baseline=\"middle\" dominant-baseline=\"middle\" text-anchor=\"middle\" transform=\"translate(103.9921875, 5)\"><g><rect class=\"background\" style=\"stroke: none\"/><text y=\"-10.1\" style=\"\"><tspan class=\"text-outer-tspan\" x=\"0\" y=\"-0.1em\" dy=\"1.1em\"><tspan font-style=\"normal\" class=\"text-inner-tspan\" font-weight=\"normal\">British</tspan><tspan font-style=\"normal\" class=\"text-inner-tspan\" font-weight=\"normal\"> popular</tspan><tspan font-style=\"normal\" class=\"text-inner-tspan\" font-weight=\"normal\"> psychology</tspan></tspan><tspan class=\"text-outer-tspan\" x=\"0\" y=\"1em\" dy=\"1.1em\"><tspan font-style=\"normal\" class=\"text-inner-tspan\" font-weight=\"normal\">author</tspan><tspan font-style=\"normal\" class=\"text-inner-tspan\" font-weight=\"normal\"> Tony</tspan><tspan font-style=\"normal\" class=\"text-inner-tspan\" font-weight=\"normal\"> Buzan</tspan></tspan></text></g></g></g><g class=\"mindmap-node section-1\" transform=\"translate(399.3940862519212, 549.7319066473237)\" attr=\"apa-8)\"><g><path id=\"node-8\" class=\"node-bkg node-no-border\" d=\"M0 32.8 v-27.799999999999997 q0,-5 5,-5 h42.0625 q5,0 5,5 v32.8 H0 Z\"/><line class=\"node-line-1\" x1=\"0\" y1=\"37.8\" x2=\"52.0625\" y2=\"37.8\"/></g><g dy=\"1em\" alignment-baseline=\"middle\" dominant-baseline=\"middle\" text-anchor=\"middle\" transform=\"translate(26.03125, 5)\"><g><rect class=\"background\" style=\"stroke: none\"/><text y=\"-10.1\" style=\"\"><tspan class=\"text-outer-tspan\" x=\"0\" y=\"-0.1em\" dy=\"1.1em\"><tspan font-style=\"normal\" class=\"text-inner-tspan\" font-weight=\"normal\">Uses</tspan></tspan></text></g></g></g><g class=\"mindmap-node section-1\" transform=\"translate(506.5023852486927, 538.8004972975361)\" attr=\"apa-9)\"><g><path id=\"node-9\" class=\"node-bkg node-no-border\" d=\"M0 32.8 v-27.799999999999997 q0,-5 5,-5 h153.109375 q5,0 5,5 v32.8 H0 Z\"/><line class=\"node-line-1\" x1=\"0\" y1=\"37.8\" x2=\"163.109375\" y2=\"37.8\"/></g><g dy=\"1em\" alignment-baseline=\"middle\" dominant-baseline=\"middle\" text-anchor=\"middle\" transform=\"translate(81.5546875, 5)\"><g><rect class=\"background\" style=\"stroke: none\"/><text y=\"-10.1\" style=\"\"><tspan class=\"text-outer-tspan\" x=\"0\" y=\"-0.1em\" dy=\"1.1em\"><tspan font-style=\"normal\" class=\"text-inner-tspan\" font-weight=\"normal\">Creative</tspan><tspan font-style=\"normal\" class=\"text-inner-tspan\" font-weight=\"normal\"> techniques</tspan></tspan></text></g></g></g><g class=\"mindmap-node section-1\" transform=\"translate(398.2626030842007, 635.4801267463786)\" attr=\"apa-10)\"><g><path id=\"node-10\" class=\"node-bkg node-no-border\" d=\"M0 32.8 v-27.799999999999997 q0,-5 5,-5 h139.9375 q5,0 5,5 v32.8 H0 Z\"/><line class=\"node-line-1\" x1=\"0\" y1=\"37.8\" x2=\"149.9375\" y2=\"37.8\"/></g><g dy=\"1em\" alignment-baseline=\"middle\" dominant-baseline=\"middle\" text-anchor=\"middle\" transform=\"translate(74.96875, 5)\"><g><rect class=\"background\" style=\"stroke: none\"/><text y=\"-10.1\" style=\"\"><tspan class=\"text-outer-tspan\" x=\"0\" y=\"-0.1em\" dy=\"1.1em\"><tspan font-style=\"normal\" class=\"text-inner-tspan\" font-weight=\"normal\">Strategic</tspan><tspan font-style=\"normal\" class=\"text-inner-tspan\" font-weight=\"normal\"> planning</tspan></tspan></text></g></g></g><g class=\"mindmap-node section-1\" transform=\"translate(189.67683746657303, 575.7013835028106)\" attr=\"apa-11)\"><g><path id=\"node-11\" class=\"node-bkg node-no-border\" d=\"M0 32.8 v-27.799999999999997 q0,-5 5,-5 h145.203125 q5,0 5,5 v32.8 H0 Z\"/><line class=\"node-line-1\" x1=\"0\" y1=\"37.8\" x2=\"155.203125\" y2=\"37.8\"/></g><g dy=\"1em\" alignment-baseline=\"middle\" dominant-baseline=\"middle\" text-anchor=\"middle\" transform=\"translate(77.6015625, 5)\"><g><rect class=\"background\" style=\"stroke: none\"/><text y=\"-10.1\" style=\"\"><tspan class=\"text-outer-tspan\" x=\"0\" y=\"-0.1em\" dy=\"1.1em\"><tspan font-style=\"normal\" class=\"text-inner-tspan\" font-weight=\"normal\">Argument</tspan><tspan font-style=\"normal\" class=\"text-inner-tspan\" font-weight=\"normal\"> mapping</tspan></tspan></text></g></g></g></g></svg>"
      ],
      "text/plain": [
       "<mermaid.__main__.Mermaid at 0x7f1eb87e1b10>"
      ]
     },
     "metadata": {},
     "output_type": "display_data"
    }
   ],
   "source": [
    "%%mermaidjs\n",
    "mindmap\n",
    "  root((mindmap))\n",
    "    Origins\n",
    "      Long history\n",
    "      ::icon(fa fa-barcode)\n",
    "      Popularisation\n",
    "        British popular psychology author Tony Buzan\n",
    "    Research\n",
    "      On effectivness<br/>and features\n",
    "      On Automatic creation\n",
    "        Uses\n",
    "            Creative techniques\n",
    "            Strategic planning\n",
    "            Argument mapping\n",
    "    Tools\n",
    "      Pen and paper\n",
    "      Mermaid"
   ]
  },
  {
   "cell_type": "code",
   "execution_count": null,
   "metadata": {},
   "outputs": [],
   "source": []
  }
 ],
 "metadata": {
  "kernelspec": {
   "display_name": "Python 3 (ipykernel)",
   "language": "python",
   "name": "python3"
  },
  "language_info": {
   "codemirror_mode": {
    "name": "ipython",
    "version": 3
   },
   "file_extension": ".py",
   "mimetype": "text/x-python",
   "name": "python",
   "nbconvert_exporter": "python",
   "pygments_lexer": "ipython3",
   "version": "3.10.12"
  }
 },
 "nbformat": 4,
 "nbformat_minor": 4
}
