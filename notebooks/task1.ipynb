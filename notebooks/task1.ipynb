{
 "cells": [
  {
   "cell_type": "markdown",
   "metadata": {},
   "source": [
    "Пробуем сделать простое дерево решений и работать с ним"
   ]
  },
  {
   "cell_type": "markdown",
   "metadata": {},
   "source": [
    "# Задача 1. Сколько заплатить за месторождение?\n",
    "\n",
    "Вы покупаете месторождение. Известна геологическая оценка извлекаемых запасов:\n",
    "\n",
    "- p10 - 1 млн тонн нефти\n",
    "- p50 - 1.1 млн тонн нефти\n",
    "- p90 - 1.2 млн тонн нефти\n",
    "\n",
    "Стоимость 1 тонны нефти в запасах – 1 тыс. руб.\n",
    "\n",
    "Готовы ли купить месторождение за 1.1 млрд.руб? Сколько вы готовы заплатить?"
   ]
  },
  {
   "cell_type": "code",
   "execution_count": 1,
   "metadata": {},
   "outputs": [],
   "source": [
    "from IPython.display import display_markdown"
   ]
  },
  {
   "cell_type": "code",
   "execution_count": 2,
   "metadata": {},
   "outputs": [],
   "source": [
    "tree = {\"name\": \"Покупать\",\n",
    "        \"type\": \"decision\",\n",
    "        \"child_edges\":[\n",
    "                       {\"name\": \"Да\",\n",
    "                        \"voi_info\":\"with_info\",\n",
    "                        \"payoff\": -100,\n",
    "                        \"child_node\": \n",
    "                                    {\"name\": \"Успех\",\n",
    "                                     \"type\": \"chance\",\n",
    "                                     \"child_edges\": [\n",
    "                                                    {\"name\": \"Да\",\n",
    "                                                     \"payoff\": 1000,\n",
    "                                                     \"probability\": 0.6,\n",
    "                                                     \"child_node\": {\"type\": \"terminal\"}\n",
    "                                                    },\n",
    "                                                    {\"name\": \"Нет\",\n",
    "                                                     \"payoff\": -10,\n",
    "                                                     \"probability\": 0.4,\n",
    "                                                     \"child_node\": {\"type\": \"terminal\"}\n",
    "                                                    },\n",
    "                                                    ]  \n",
    "                                    }\n",
    "                        },\n",
    "                        {\"name\": \"Нет\",\n",
    "                         \"voi_info\":\"without_info\",\n",
    "                         \"payoff\": 1000,\n",
    "                         \"child_node\": {\"type\": \"terminal\"}\n",
    "                        }\n",
    "                    ]  \n",
    "        }"
   ]
  },
  {
   "cell_type": "code",
   "execution_count": 15,
   "metadata": {},
   "outputs": [
    {
     "data": {
      "text/markdown": [
       "```mermaid \n",
       " flowchart LR \n",
       "0[\"Покупать\"] \n",
       "1((\"Успех\")) \n",
       "2{.} \n",
       "3{.} \n",
       "4{.} \n",
       "0 --Да--> 1  \n",
       "1 --Да--> 2  \n",
       "1 --Нет--> 3  \n",
       "0 --Нет--> 4  \n"
      ]
     },
     "metadata": {},
     "output_type": "display_data"
    }
   ],
   "source": [
    "def tree_to_mermaid_chart(tree):\n",
    "    def get_node_list(tree, nodes=[], i=0):\n",
    "        if tree['type'] == 'terminal':\n",
    "            nodes.append(str(i) +\"{\"\".\"\"}\")\n",
    "        if tree['type'] == 'decision':\n",
    "            nodes.append(f'{i}[\"{tree['name']}\"]')\n",
    "        if tree['type'] == 'chance':\n",
    "            nodes.append(f'{i}((\"{tree['name']}\"))')\n",
    "        tree['_id_'] = i\n",
    "        i = i + 1\n",
    "        if 'child_edges' in tree:\n",
    "            for edge in tree['child_edges']:\n",
    "                i = get_node_list(edge['child_node'], nodes, i)\n",
    "        return i\n",
    "\n",
    "    def get_edge_list(tree, nodes=[]):\n",
    "        if tree['type'] == 'terminal':\n",
    "            pass\n",
    "            #list.append(f\"{i}[\"\"*\"\"]\")\n",
    "        else:\n",
    "            if 'child_edges' in tree:\n",
    "                for edge in tree['child_edges']:\n",
    "                    nodes.append(f'{tree['_id_']} --{edge['name']}--> {edge['child_node']['_id_']} ')\n",
    "                    get_edge_list(edge['child_node'], nodes)\n",
    "                    \n",
    "    nodes = [\"```mermaid\", \" flowchart LR\"]\n",
    "    tr = tree.copy()            \n",
    "    get_node_list(tr, nodes)\n",
    "    get_edge_list(tr, nodes)\n",
    "    st=\"\"\n",
    "    for s in nodes:\n",
    "        st = st + s + \" \\n\"\n",
    "    return st\n",
    "\n",
    "display_markdown(tree_to_mermaid_chart(tree), raw=True)"
   ]
  },
  {
   "cell_type": "code",
   "execution_count": 11,
   "metadata": {},
   "outputs": [
    {
     "name": "stdout",
     "output_type": "stream",
     "text": [
      "===========================\n",
      "|   decision : Покупать [ 1000]\n",
      "| --  Да   [payoff:-100  p = 0] ->    chance : Успех [ emv = 596.0] \n",
      "| ----  Да   [payoff:1000  p = 0.6] ->    terminal :  [ emv = 0]  (0.6 900)\n",
      "| ----  Нет   [payoff:-10  p = 0.4] ->    terminal :  [ emv = 0]  (0.4 -110)\n",
      "| --  Нет   [payoff:1000  p = 1] ->    terminal :  [ emv = 0]  (0 1000)\n"
     ]
    }
   ],
   "source": [
    "def solve_tree(tree, v=0, p=0):\n",
    "    \"\"\"\n",
    "    рекурсивное решение дерева заданного в виде словаря\n",
    "    \"\"\"\n",
    "    \n",
    "    if tree['type'] == 'terminal':\n",
    "        # для терминального узла сохраняем в нем итоговые выигрыши и вероятности\n",
    "        tree['emv'] = 0\n",
    "        tree['v'] = v\n",
    "        tree['p'] = p\n",
    "    else:\n",
    "        # или 'decision' или 'chance' с дочерними узлами\n",
    "        tree['emv'] = 0\n",
    "        if tree['type'] == 'decision':\n",
    "            tree['emvs'] = {}\n",
    "            num = 0\n",
    "        \n",
    "        for edge in tree['child_edges']:\n",
    "            # переберем все связи рассматриваемого узла\n",
    "            if tree['type'] == 'decision':\n",
    "                edge['id'] = num\n",
    "                num = num + 1\n",
    "\n",
    "            # рекурсивно рассчитаем параметры дочерних узлов\n",
    "            solve_tree(edge['child_node'], edge['payoff']+v, edge['probability'] if 'probability' in edge else 0 * p)\n",
    "\n",
    "            # рассчитаем emv рассматриваемого узла\n",
    "            if tree['type'] == 'decision':\n",
    "                tree['emvs'][edge['id']] = edge['child_node']['emv'] + edge['payoff']\n",
    "            else:\n",
    "                tree['emv'] = tree['emv'] + (edge['child_node']['emv'] + edge['payoff']) * edge['probability']\n",
    "\n",
    "        # для узла решения определим оптимальное - из максимизации EMV\n",
    "        if tree['type'] == 'decision':\n",
    "            tree['emv'] = max(tree['emvs'].values())\n",
    "            for edge in tree['child_edges']:\n",
    "                if tree['emvs'][edge['id']] == tree['emv']:\n",
    "                    edge['probability'] = 1\n",
    "                else:\n",
    "                    edge['probability'] = 0\n",
    "            # оценим VOI для узла решения\n",
    "            emv_wi = 0\n",
    "            emv_woi = 0\n",
    "            calc_voi = [False, False]\n",
    "            for edge in tree['child_edges']:\n",
    "                if 'voi_info' in edge:\n",
    "                    if edge['voi_info']=='with_info':\n",
    "                        emv_wi = tree['emvs'][edge['id']]\n",
    "                        calc_voi[0] = True\n",
    "                    if edge['voi_info']=='without_info':\n",
    "                        emv_woi = tree['emvs'][edge['id']]\n",
    "                        calc_voi[1] = True\n",
    "            if calc_voi == [True, True]:\n",
    "                tree['voi'] = emv_wi - emv_woi\n",
    "      \n",
    "\n",
    "\n",
    "\n",
    "def print_tree(tree, level=0):\n",
    "    if level == 0:\n",
    "        print('|','-'*level,  f\" {tree['type']} : {tree['name'] if 'name' in tree else ''} [ {tree['emv']}]\" )\n",
    "    else:\n",
    "        if 'child_node' in tree:\n",
    "            print('|', '-'*level,  \n",
    "                  f\" {tree['name']} \",\n",
    "                  f\" [payoff:{tree['payoff']} { (' p = ' + str(tree['probability'])) if 'probability' in tree else '' }] -> \",\n",
    "                  f\"  {tree['child_node']['type']} : {tree['child_node']['name'] if 'name' in tree['child_node'] else ''} [ emv = {tree['child_node']['emv']}]\",\n",
    "                  f\" ({tree['child_node']['p']} {tree['child_node']['v']})\" if tree['child_node']['type']=='terminal' else '' )\n",
    "\n",
    "\n",
    "    if 'child_edges' in tree:\n",
    "        for edge in tree['child_edges']:\n",
    "            print_tree(edge, level=level+2)\n",
    "            print_tree(edge['child_node'], level=level+2)\n",
    "\n",
    "solve_tree(tree)\n",
    "print('===========================')\n",
    "print_tree(tree)"
   ]
  },
  {
   "cell_type": "code",
   "execution_count": 12,
   "metadata": {},
   "outputs": [
    {
     "data": {
      "text/plain": [
       "{'name': 'Покупать',\n",
       " 'type': 'decision',\n",
       " 'child_edges': [{'name': 'Да',\n",
       "   'voi_info': 'with_info',\n",
       "   'payoff': -100,\n",
       "   'child_node': {'name': 'Успех',\n",
       "    'type': 'chance',\n",
       "    'child_edges': [{'name': 'Да',\n",
       "      'payoff': 1000,\n",
       "      'probability': 0.6,\n",
       "      'child_node': {'type': 'terminal',\n",
       "       '_id_': 2,\n",
       "       'emv': 0,\n",
       "       'v': 900,\n",
       "       'p': 0.6}},\n",
       "     {'name': 'Нет',\n",
       "      'payoff': -10,\n",
       "      'probability': 0.4,\n",
       "      'child_node': {'type': 'terminal',\n",
       "       '_id_': 3,\n",
       "       'emv': 0,\n",
       "       'v': -110,\n",
       "       'p': 0.4}}],\n",
       "    '_id_': 1,\n",
       "    'emv': 596.0},\n",
       "   'id': 0,\n",
       "   'probability': 0},\n",
       "  {'name': 'Нет',\n",
       "   'voi_info': 'without_info',\n",
       "   'payoff': 1000,\n",
       "   'child_node': {'type': 'terminal', '_id_': 4, 'emv': 0, 'v': 1000, 'p': 0},\n",
       "   'id': 1,\n",
       "   'probability': 1}],\n",
       " 'emv': 1000,\n",
       " 'emvs': {0: 496.0, 1: 1000},\n",
       " 'voi': -504.0}"
      ]
     },
     "execution_count": 12,
     "metadata": {},
     "output_type": "execute_result"
    }
   ],
   "source": [
    "tree"
   ]
  },
  {
   "cell_type": "code",
   "execution_count": 13,
   "metadata": {},
   "outputs": [],
   "source": [
    "tree2 = {\"name\": \"Покупать\",\n",
    "        \"type\": \"decision\",\n",
    "        \"child_edges\":[\n",
    "                        {\"name\": \"Да\",\n",
    "                         \"payoff\": -100,\n",
    "                         \"child_node\": \n",
    "                                {\"name\": \"Успех\",\n",
    "                                 \"type\": \"chance\",\n",
    "                                 \"child_edges\": [\n",
    "                                                    {\"name\": \"Да\",\n",
    "                                                    \"payoff\": 100,\n",
    "                                                    \"probability\": 0.6,\n",
    "                                                    \"child_node\": \n",
    "                                                                    {\"name\": \"Результат\",\n",
    "                                                                     \"type\": \"chance\",\n",
    "                                                                     \"child_edges\": [\n",
    "                                                                                        {\"name\": \"Да\",\n",
    "                                                                                        \"payoff\": 1000,\n",
    "                                                                                        \"probability\": 0.8,\n",
    "                                                                                        \"child_node\": {\"type\": \"terminal\"}\n",
    "                                                                                        },\n",
    "                                                                                        {\"name\": \"Нет\",\n",
    "                                                                                        \"payoff\": -10,\n",
    "                                                                                        \"probability\": 0.2,\n",
    "                                                                                        \"child_node\": {\"type\": \"terminal\"}\n",
    "                                                                                        },\n",
    "                                                                                    ]  \n",
    "                                                                    }\n",
    "                                                                \n",
    "                                                     \n",
    "                                                    },\n",
    "                                                    {\"name\": \"Нет\",\n",
    "                                                    \"payoff\": -10,\n",
    "                                                    \"probability\": 0.4,\n",
    "                                                    \"child_node\": {\"type\": \"terminal\"}\n",
    "                                                    },\n",
    "                                                ]  \n",
    "                                }\n",
    "                        },\n",
    "                        {\"name\": \"Нет\",\n",
    "                         \"payoff\": -100,\n",
    "                         \"child_node\": {\"type\": \"terminal\"}\n",
    "                        }\n",
    "                    ]  \n",
    "        }"
   ]
  },
  {
   "cell_type": "code",
   "execution_count": 14,
   "metadata": {},
   "outputs": [
    {
     "name": "stdout",
     "output_type": "stream",
     "text": [
      "===========================\n",
      "|   decision : Покупать [ 434.79999999999995]\n",
      "| --  Да   [payoff:-100  p = 1] ->    chance : Успех [ emv = 534.8] \n",
      "| ----  Да   [payoff:100  p = 0.6] ->    chance : Результат [ emv = 798.0] \n",
      "| ------  Да   [payoff:1000  p = 0.8] ->    terminal :  [ emv = 0]  (0.8 1000)\n",
      "| ------  Нет   [payoff:-10  p = 0.2] ->    terminal :  [ emv = 0]  (0.2 -10)\n",
      "| ----  Нет   [payoff:-10  p = 0.4] ->    terminal :  [ emv = 0]  (0.4 -110)\n",
      "| --  Нет   [payoff:-100  p = 0] ->    terminal :  [ emv = 0]  (0 -100)\n"
     ]
    }
   ],
   "source": [
    "solve_tree(tree2)\n",
    "print('===========================')\n",
    "print_tree(tree2)"
   ]
  },
  {
   "cell_type": "code",
   "execution_count": 36,
   "metadata": {},
   "outputs": [
    {
     "data": {
      "text/plain": [
       "{'name': 'Покупать',\n",
       " 'type': 'decision',\n",
       " 'child_edges': [{'name': 'Да',\n",
       "   'payoff': -100,\n",
       "   'child_node': {'name': 'Успех',\n",
       "    'type': 'chance',\n",
       "    'child_edges': [{'name': 'Да',\n",
       "      'payoff': 100,\n",
       "      'probability': 0.6,\n",
       "      'child_node': {'name': 'Результат',\n",
       "       'type': 'chance',\n",
       "       'child_edges': [{'name': 'Да',\n",
       "         'payoff': 1000,\n",
       "         'probability': 0.8,\n",
       "         'child_node': {'type': 'terminal', 'emv': 0, 'v': 1000, 'p': 0.8}},\n",
       "        {'name': 'Нет',\n",
       "         'payoff': -10,\n",
       "         'probability': 0.2,\n",
       "         'child_node': {'type': 'terminal', 'emv': 0, 'v': -10, 'p': 0.2}}],\n",
       "       'emv': 798.0}},\n",
       "     {'name': 'Нет',\n",
       "      'payoff': -10,\n",
       "      'probability': 0.4,\n",
       "      'child_node': {'type': 'terminal', 'emv': 0, 'v': -110, 'p': 0.4}}],\n",
       "    'emv': 534.8},\n",
       "   'id': 0,\n",
       "   'probability': 1},\n",
       "  {'name': 'Нет',\n",
       "   'payoff': -100,\n",
       "   'child_node': {'type': 'terminal', 'emv': 0, 'v': -100, 'p': 0},\n",
       "   'id': 1,\n",
       "   'probability': 0}],\n",
       " 'emv': 434.79999999999995,\n",
       " 'emvs': {0: 434.79999999999995, 1: -100}}"
      ]
     },
     "execution_count": 36,
     "metadata": {},
     "output_type": "execute_result"
    }
   ],
   "source": [
    "tree2"
   ]
  },
  {
   "cell_type": "code",
   "execution_count": null,
   "metadata": {},
   "outputs": [],
   "source": []
  }
 ],
 "metadata": {
  "kernelspec": {
   "display_name": "Python 3 (ipykernel)",
   "language": "python",
   "name": "python3"
  },
  "language_info": {
   "codemirror_mode": {
    "name": "ipython",
    "version": 3
   },
   "file_extension": ".py",
   "mimetype": "text/x-python",
   "name": "python",
   "nbconvert_exporter": "python",
   "pygments_lexer": "ipython3",
   "version": "3.12.5"
  }
 },
 "nbformat": 4,
 "nbformat_minor": 4
}
