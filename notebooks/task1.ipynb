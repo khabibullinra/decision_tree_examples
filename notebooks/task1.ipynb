{
 "cells": [
  {
   "cell_type": "markdown",
   "metadata": {},
   "source": [
    "Пробуем сделать простое дерево решений и работать с ним"
   ]
  },
  {
   "cell_type": "code",
   "execution_count": 1,
   "metadata": {},
   "outputs": [],
   "source": [
    "import json"
   ]
  },
  {
   "cell_type": "code",
   "execution_count": 9,
   "metadata": {},
   "outputs": [],
   "source": [
    "tree = {\"name\": \"Покупать\",\n",
    "        \"type\": \"decision\",\n",
    "        \"child_edges\":[\n",
    "                        {\"name\": \"Да\",\n",
    "                         \"payoff\": -100,\n",
    "                         \"child_node\": \n",
    "                                {\"name\": \"Успех\",\n",
    "                                 \"type\": \"chance\",\n",
    "                                 \"child_edges\": [\n",
    "                                                    {\"name\": \"Да\",\n",
    "                                                    \"payoff\": 1000,\n",
    "                                                    \"probability\": 0.6,\n",
    "                                                    \"child_node\": {\"type\": \"terminal\"}\n",
    "                                                    },\n",
    "                                                    {\"name\": \"Нет\",\n",
    "                                                    \"payoff\": -10,\n",
    "                                                    \"probability\": 0.4,\n",
    "                                                    \"child_node\": {\"type\": \"terminal\"}\n",
    "                                                    },\n",
    "                                                ]  \n",
    "                                }\n",
    "                        },\n",
    "                        {\"name\": \"Нет\",\n",
    "                         \"payoff\": -100,\n",
    "                         \"child_node\": {\"type\": \"terminal\"}\n",
    "                        }\n",
    "                    ]  \n",
    "        }"
   ]
  },
  {
   "cell_type": "code",
   "execution_count": 40,
   "metadata": {},
   "outputs": [
    {
     "name": "stdout",
     "output_type": "stream",
     "text": [
      "===========================\n",
      "|   decision : Покупать [ 496.0]\n",
      "| --  Да   [payoff:-100 ] ->    chance : Успех [ emv = 596.0] \n",
      "| ----  Да   [payoff:1000  p = 0.6] ->    terminal :  [ emv = 0]  (0.6 900)\n",
      "| ----  Нет   [payoff:-10  p = 0.4] ->    terminal :  [ emv = 0]  (0.4 -110)\n",
      "| --  Нет   [payoff:-100 ] ->    terminal :  [ emv = 0]  (0 -100)\n"
     ]
    }
   ],
   "source": [
    "def solve_tree(tree, v=0, p=0):\n",
    "    \"\"\"\n",
    "    рекурсивное решение дерева заданного в виде словаря\n",
    "    \"\"\"\n",
    "    if tree['type'] == 'decision':\n",
    "        tree['emvs'] = []\n",
    "        for edge in tree['child_edges']:\n",
    "            solve_tree(edge['child_node'], edge['payoff']+v, edge['probability'] if 'probability' in edge else 0 * p)\n",
    "            tree['emvs'].append(edge['child_node']['emv'] + edge['payoff'])\n",
    "        tree['emv'] = max(tree['emvs'])\n",
    "\n",
    "    if tree['type'] == 'chance':\n",
    "        tree['emv'] = 0\n",
    "        for edge in tree['child_edges']:\n",
    "            solve_tree(edge['child_node'], edge['payoff']+v, edge['probability'] if 'probability' in edge else 0 * p)\n",
    "            tree['emv'] = tree['emv'] + edge['child_node']['emv'] + edge['payoff'] * edge['probability']\n",
    "\n",
    "    if tree['type'] == 'terminal':\n",
    "        tree['emv'] = 0\n",
    "        tree['v'] = v\n",
    "        tree['p'] = p\n",
    "\n",
    "\n",
    "\n",
    "def print_tree(tree, level=0):\n",
    "    if level == 0:\n",
    "        print('|','-'*level,  f' {tree['type']} : {tree['name'] if 'name' in tree else \"\"} [ {tree['emv']}]' )\n",
    "    else:\n",
    "        if 'child_node' in tree:\n",
    "            print('|',\n",
    "                  '-'*level,  \n",
    "                  f' {tree['name']} ',\n",
    "                  f' [payoff:{tree['payoff']} { (' p = ' + str(tree['probability'])) if 'probability' in tree else \"\" }] -> ',\n",
    "                  f'  {tree['child_node']['type']} : {tree['child_node']['name'] if 'name' in tree['child_node'] else \"\"} [ emv = {tree['child_node']['emv']}]',\n",
    "                  f' ({tree['child_node']['p']} {tree['child_node']['v']})' if tree['child_node']['type']=='terminal' else \"\" )\n",
    "\n",
    "\n",
    "    if 'child_edges' in tree:\n",
    "        for edge in tree['child_edges']:\n",
    "            print_tree(edge, level=level+2)\n",
    "            print_tree(edge['child_node'], level=level+2)\n",
    "\n",
    "solve_tree(tree)\n",
    "print('===========================')\n",
    "print_tree(tree)"
   ]
  },
  {
   "cell_type": "code",
   "execution_count": 38,
   "metadata": {},
   "outputs": [
    {
     "data": {
      "text/plain": [
       "{'name': 'Покупать',\n",
       " 'type': 'decision',\n",
       " 'child_edges': [{'name': 'Да',\n",
       "   'payoff': -100,\n",
       "   'child_node': {'name': 'Успех',\n",
       "    'type': 'chance',\n",
       "    'child_edges': [{'name': 'Да',\n",
       "      'payoff': 1000,\n",
       "      'probability': 0.6,\n",
       "      'child_node': {'type': 'terminal', 'emv': 0, 'v': 900, 'p': 0.6}},\n",
       "     {'name': 'Нет',\n",
       "      'payoff': -10,\n",
       "      'probability': 0.4,\n",
       "      'child_node': {'type': 'terminal', 'emv': 0, 'v': -110, 'p': 0.4}}],\n",
       "    'emv': 596.0}},\n",
       "  {'name': 'Нет',\n",
       "   'payoff': -100,\n",
       "   'child_node': {'type': 'terminal', 'emv': 0, 'v': -100, 'p': 0}}],\n",
       " 'emvs': [496.0, -100],\n",
       " 'emv': 496.0}"
      ]
     },
     "execution_count": 38,
     "metadata": {},
     "output_type": "execute_result"
    }
   ],
   "source": [
    "tree"
   ]
  },
  {
   "cell_type": "code",
   "execution_count": null,
   "metadata": {},
   "outputs": [],
   "source": [
    "tree = {\"name\": \"Покупать\",\n",
    "        \"type\": \"decision\",\n",
    "        \"child_edges\": \n",
    "            [\n",
    "                {\n",
    "                    \"name\": \"Да\",\n",
    "                    \"payoff\": -100,\n",
    "                    \"child_nodes\": \n",
    "                        [\n",
    "                            {\n",
    "                                \"name\": \"Успех\",\n",
    "                                \"type\": \"chance\",\n",
    "                                \"child_edges\": \n",
    "                                [\n",
    "                                    {\n",
    "                                        \"name\": \"Да\",\n",
    "                                        \"payoff\": -100,\n",
    "                                        \"probability\": 0.6,\n",
    "                                        \"child_nodes\": \n",
    "                                            [\n",
    "                                                {\n",
    "                                                    \"type\": \"terminal\",\n",
    "                                                },\n",
    "                                            ]\n",
    "                                    },\n",
    "                                    {\n",
    "                                        \"name\": \"Нет\",\n",
    "                                        \"payoff\": 0,\n",
    "                                        \"probability\": 0.4,\n",
    "                                        \"child_nodes\": \n",
    "                                            [\n",
    "                                                {\n",
    "                                                    \"type\": \"terminal\",\n",
    "                                                },\n",
    "                                            ]\n",
    "                                    },\n",
    "                                ]  \n",
    "                            },\n",
    "                        ]\n",
    "                },\n",
    "            ]  \n",
    "        }"
   ]
  },
  {
   "cell_type": "code",
   "execution_count": 77,
   "metadata": {},
   "outputs": [],
   "source": [
    "tree = {\"name\": \"Покупать\",\n",
    "        \"type\": \"decision\",\n",
    "        \"child\": [\n",
    "            {\n",
    "                \"name\": \"Успех\",\n",
    "                \"link_name\":\"Да\",\n",
    "                \"type\": \"chance\",\n",
    "                \"payoff\": -100,\n",
    "                \"child\": [\n",
    "                            {\n",
    "                                \"name\": \"у1\",\n",
    "                                \"link_name\":\"Да\",\n",
    "                                \"type\": \"terminal\",\n",
    "                                \"payoff\": 1000,\n",
    "                                \"probability\": 0.6,\n",
    "                            },\n",
    "                            {\n",
    "                                \"name\": \"у2\",\n",
    "                                \"link_name\":\"Нет\",\n",
    "                                \"type\": \"terminal\",\n",
    "                                \"payoff\": -10,\n",
    "                                \"probability\": 0.4,\n",
    "                            }\n",
    "                        ]\n",
    "            },\n",
    "            {\n",
    "                \"name\": \"Провал\",\n",
    "                \"link_name\":\"Нет\",\n",
    "                \"type\": \"terminal\",\n",
    "                \"payoff\": -10,\n",
    "                \"probability\": 0,\n",
    "            }\n",
    "      ]\n",
    "        }\n"
   ]
  },
  {
   "cell_type": "code",
   "execution_count": 87,
   "metadata": {},
   "outputs": [],
   "source": [
    "tree = {\"name\": \"Покупать\",\n",
    "        \"type\": \"decision\",\n",
    "        \"child\": [\n",
    "            {\n",
    "                \"name\": \"Успех\",\n",
    "                \"link_name\":\"Да\",\n",
    "                \"type\": \"chance\",\n",
    "                \"payoff\": -100,\n",
    "                \"child\": [\n",
    "                            {\n",
    "                                \"name\": \"Успех2\",\n",
    "                                \"link_name\":\"Да\",\n",
    "                                \"type\": \"chance\",\n",
    "                                \"payoff\": -200,\n",
    "                                \"probability\": 0.6,\n",
    "                                \"child\": [\n",
    "                                            {\n",
    "                                                \"name\": \"у1\",\n",
    "                                                \"link_name\":\"Да\",\n",
    "                                                \"type\": \"terminal\",\n",
    "                                                \"payoff\": 1000,\n",
    "                                                \"probability\": 0.6,\n",
    "                                            },\n",
    "                                            {\n",
    "                                                \"name\": \"у2\",\n",
    "                                                \"link_name\":\"Нет\",\n",
    "                                                \"type\": \"terminal\",\n",
    "                                                \"payoff\": -10,\n",
    "                                                \"probability\": 0.4,\n",
    "                                            }\n",
    "                                        ]\n",
    "                            },\n",
    "                            {\n",
    "                                \"name\": \"у3\",\n",
    "                                \"link_name\":\"Нет\",\n",
    "                                \"type\": \"terminal\",\n",
    "                                \"payoff\": -10,\n",
    "                                \"probability\": 0.4,\n",
    "                            }\n",
    "                        ]\n",
    "            },\n",
    "            {\n",
    "                \"name\": \"Провал\",\n",
    "                \"link_name\":\"Нет\",\n",
    "                \"type\": \"terminal\",\n",
    "                \"payoff\": -10,\n",
    "                \"probability\": 0,\n",
    "            }\n",
    "      ]\n",
    "        }"
   ]
  },
  {
   "cell_type": "markdown",
   "metadata": {},
   "source": [
    "логика работы с деревом\n",
    "- начинаем с начального узла\n",
    "    если узел принятия решения - что считаем emv всех подузлов\n",
    "    если вероятностный узел - то считаем просто emv"
   ]
  },
  {
   "cell_type": "code",
   "execution_count": 88,
   "metadata": {},
   "outputs": [
    {
     "name": "stdout",
     "output_type": "stream",
     "text": [
      " Покупать\n",
      "-- Успех\n",
      "---- Успех2\n",
      "------ у1\n",
      "------ у2\n",
      "==== emv = 596.0\n",
      "---- у3\n",
      "== emv = 353.59999999999997\n",
      "-- Провал\n",
      " emv = 253.59999999999997\n",
      "===========================\n",
      "  Покупать [ 253.59999999999997]\n",
      "--  Успех [ 353.59999999999997]\n",
      "----  Успех2 [ 596.0]\n",
      "------  у1 [ 1000]\n",
      "------  у2 [ -10]\n",
      "----  у3 [ -10]\n",
      "--  Провал [ -10]\n"
     ]
    }
   ],
   "source": [
    "def solve_tree(tree, level=0):\n",
    "    print('-'*level,  tree['name'])\n",
    "\n",
    "    if tree['type'] == 'decision':\n",
    "        tree['emvs'] = []\n",
    "        for chld in tree['child']:\n",
    "            solve_tree(chld, level=level + 2)\n",
    "            tree['emvs'].append(chld['emv'] + chld['payoff'])\n",
    "            tree['emv'] = max(tree['emvs'])\n",
    "        print('='*level, f'emv = {tree['emv']}')\n",
    "\n",
    "    if tree['type'] == 'chance':\n",
    "        tree['emv'] = 0\n",
    "        for chld in tree['child']:\n",
    "            solve_tree(chld, level=level + 2)\n",
    "            tree['emv'] = tree['emv'] + chld['emv'] * chld['probability']\n",
    "        print('='*level, f'emv = {tree['emv']}')\n",
    "\n",
    "    if tree['type'] == 'terminal':\n",
    "        tree['emv'] = tree['payoff']\n",
    "\n",
    "\n",
    "\n",
    "def print_tree(tree, level=0):\n",
    "    print('-'*level,  f' {tree['name']} [ {tree['emv']}]' )\n",
    "    if 'child' in tree:\n",
    "        for chld in tree['child']:\n",
    "            print_tree(chld, level=level+2)\n",
    "\n",
    "test(tree)\n",
    "print('===========================')\n",
    "print_tree(tree)"
   ]
  },
  {
   "cell_type": "code",
   "execution_count": 86,
   "metadata": {},
   "outputs": [
    {
     "data": {
      "text/plain": [
       "{'name': 'Покупать',\n",
       " 'type': 'decision',\n",
       " 'child': [{'name': 'Успех',\n",
       "   'link_name': 'Да',\n",
       "   'type': 'chance',\n",
       "   'payoff': -100,\n",
       "   'child': [{'name': 'Успех2',\n",
       "     'link_name': 'Да',\n",
       "     'type': 'chance',\n",
       "     'payoff': -200,\n",
       "     'child': [{'name': 'у1',\n",
       "       'link_name': 'Да',\n",
       "       'type': 'terminal',\n",
       "       'payoff': 1000,\n",
       "       'probability': 0.6},\n",
       "      {'name': 'у2',\n",
       "       'link_name': 'Нет',\n",
       "       'type': 'terminal',\n",
       "       'payoff': -10,\n",
       "       'probability': 0.4}]},\n",
       "    {'name': 'у3',\n",
       "     'link_name': 'Нет',\n",
       "     'type': 'terminal',\n",
       "     'payoff': -10,\n",
       "     'probability': 0.4}]},\n",
       "  {'name': 'Провал',\n",
       "   'link_name': 'Нет',\n",
       "   'type': 'terminal',\n",
       "   'payoff': -10,\n",
       "   'probability': 0}]}"
      ]
     },
     "execution_count": 86,
     "metadata": {},
     "output_type": "execute_result"
    }
   ],
   "source": [
    "tree"
   ]
  },
  {
   "cell_type": "code",
   "execution_count": 69,
   "metadata": {},
   "outputs": [
    {
     "data": {
      "text/plain": [
       "3"
      ]
     },
     "execution_count": 69,
     "metadata": {},
     "output_type": "execute_result"
    }
   ],
   "source": [
    "max([1,2,3])"
   ]
  },
  {
   "cell_type": "code",
   "execution_count": null,
   "metadata": {},
   "outputs": [],
   "source": []
  }
 ],
 "metadata": {
  "kernelspec": {
   "display_name": ".venv",
   "language": "python",
   "name": "python3"
  },
  "language_info": {
   "codemirror_mode": {
    "name": "ipython",
    "version": 3
   },
   "file_extension": ".py",
   "mimetype": "text/x-python",
   "name": "python",
   "nbconvert_exporter": "python",
   "pygments_lexer": "ipython3",
   "version": "3.12.5"
  }
 },
 "nbformat": 4,
 "nbformat_minor": 2
}
