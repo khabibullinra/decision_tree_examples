{
 "cells": [
  {
   "cell_type": "markdown",
   "metadata": {},
   "source": [
    "Пробуем сделать простое дерево решений и работать с ним"
   ]
  },
  {
   "cell_type": "code",
   "execution_count": 1,
   "metadata": {},
   "outputs": [],
   "source": [
    "from IPython.display import display_markdown"
   ]
  },
  {
   "cell_type": "markdown",
   "metadata": {},
   "source": [
    "# Задача 1. Сколько заплатить за месторождение?\n",
    "\n",
    "Вы покупаете месторождение нефти. Известна геологическая оценка извлекаемых запасов:\n",
    "\n",
    "- p10 - 1 млн тонн нефти\n",
    "- p50 - 1.1 млн тонн нефти\n",
    "- p90 - 1.2 млн тонн нефти\n",
    "\n",
    "Стоимость 1 тонны нефти в запасах – 1 тыс. руб.\n",
    "\n",
    "Готовы ли купить месторождение за 1.1 млрд.руб? Сколько вы готовы заплатить?"
   ]
  },
  {
   "attachments": {
    "3a1e1ec0-7a13-4f2e-a5ad-11f56eed9e29.png": {
     "image/png": "[encoded data removed]"
    }
   },
   "cell_type": "markdown",
   "metadata": {},
   "source": [
    "Для решения задачи можно построить дерево решений с использованием [silverdecisions.pl](https://silverdecisions.pl/)\n",
    "\n",
    "Получится что как на рисунке ниже\n",
    "\n",
    "![image.png](attachment:3a1e1ec0-7a13-4f2e-a5ad-11f56eed9e29.png)\n",
    "\n",
    "Дерево состоит из одного узла принятия решений (Покупать), одного вероятностного узла (Геология) и трех вариантов исходов для вероятностного узла (Плохая, Хорошая, Отличная). Затраты и выигрыше в дереве приведены в млн.руб. Анализ дерева показывает, что ожидаемая доходной вероятностного узла \"Геология\" составляет $EMV_{геология}= 1100$ млн.руб.\n",
    "\n",
    "При построении дерева перцентили p10, p50, p 90 были заменены на вероятности 0.3, 0.4, 0.5 согласно расширенному методу Свенсона Мегилла (Extended Swanson-Megill Method).  (надо добавить ссылку и расширить описание - возможно в виде отдельного ноутбука).\n",
    "\n",
    "Альтернатива покупке месторождения не приносит ни проигрышей ни выигрышей $EMV_{не_покупать}= 1100$ млн.руб.\n",
    "\n",
    "Таким образом при стоимости месторождении 1 млрд. руб. общая доходность решения покупать $EMV_{покупать}= 100$ млн.руб.  $EMV_{покупать} > EMV_{не_покупать}$ поэтому покупка целесообразна (при условии максимизации доходности как критерия принятия решений)."
   ]
  },
  {
   "cell_type": "markdown",
   "metadata": {},
   "source": [
    "Для удобства дальшейнего анализа автоматизируем расчет с использованием скриптов python. Для этого зададим дерево в виде словаря и приведем функции расчета дерева и его анализа."
   ]
  },
  {
   "cell_type": "code",
   "execution_count": 2,
   "metadata": {},
   "outputs": [],
   "source": [
    "tree = {\"name\": \"Покупать\",\n",
    "        \"type\": \"decision\",\n",
    "        \"child_edges\":[\n",
    "                       {\"name\": \"Да\",\n",
    "                        \"payoff\": -1000,\n",
    "                        \"child_node\": \n",
    "                                    {\"name\": \"Геология\",\n",
    "                                     \"type\": \"chance\",\n",
    "                                     \"child_edges\": [\n",
    "                                                    {\"name\": \"Плохая\",\n",
    "                                                     \"payoff\": 1000,\n",
    "                                                     \"probability\": 0.3,\n",
    "                                                     \"child_node\": {\"type\": \"terminal\"}\n",
    "                                                    },\n",
    "                                                    {\"name\": \"Хорошая\",\n",
    "                                                     \"payoff\": 1100,\n",
    "                                                     \"probability\": 0.4,\n",
    "                                                     \"child_node\": {\"type\": \"terminal\"}\n",
    "                                                    },\n",
    "                                                    {\"name\": \"Отличная\",\n",
    "                                                     \"payoff\": 1200,\n",
    "                                                     \"probability\": 0.3,\n",
    "                                                     \"child_node\": {\"type\": \"terminal\"}\n",
    "                                                    },\n",
    "                                                    ]  \n",
    "                                    }\n",
    "                        },\n",
    "                        {\"name\": \"Нет\",\n",
    "                         \"payoff\": 0,\n",
    "                         \"child_node\": {\"type\": \"terminal\"}\n",
    "                        }\n",
    "                    ]  \n",
    "        }"
   ]
  },
  {
   "cell_type": "markdown",
   "metadata": {},
   "source": [
    "Для удобства анализа приведем функции транслирующую дерево в виде словаря python (заданного на основе формата json) в текстовый формат [mermaid]((https://mermaid.js.org/)) пригодный для построения диаграмм. "
   ]
  },
  {
   "cell_type": "code",
   "execution_count": 3,
   "metadata": {},
   "outputs": [],
   "source": [
    "def tree_to_mermaid_chart(tree):\n",
    "    \"\"\"\n",
    "    преобразует дерево в строку пригодную для отображения диаграмм mermaid (https://mermaid.js.org/)\n",
    "    \"\"\"\n",
    "    def get_node_list(tree, nodes=[], i=0):\n",
    "        \"\"\"\n",
    "        рекурсивно вытаскиваем и нумеруем все узлы для отображения\n",
    "        \"\"\"\n",
    "        if tree['type'] == 'terminal':\n",
    "            snode =  ( \"  p = \" + str(tree['p']) if 'p' in tree else \"\")\n",
    "            snode = snode + ( \" <br> v = \" + str(tree['v']) if 'v' in tree else \"\")\n",
    "            snode = \".\" if snode==\"\" else snode\n",
    "            nodes.append(str(i) +\"{\"+snode+\"}\")\n",
    "            nodes.append(\"style \"+str(i)+\"  fill:#00C853\")\n",
    "        if tree['type'] == 'decision':\n",
    "            snode = tree['name']\n",
    "            snode = snode + ( \" <br> payoff = \" + f\"{tree['payoff']:.2f}\" if 'payoff' in tree else \"\")\n",
    "            snode = snode + ( \" <br> emv = \" + f\"{tree['emv']:.2f}\" if 'emv' in tree else \"\")\n",
    "            snode = snode + ( \" <br> voi = \" + f\"{tree['voi']:.2f}\" if 'voi' in tree else \"\")\n",
    "            nodes.append(str(i) + \"[\" +snode+\"]\")\n",
    "            nodes.append(\"style \"+str(i)+\"  fill:#FF6D00\")\n",
    "        if tree['type'] == 'chance':\n",
    "            snode = tree['name']\n",
    "            snode = snode + ( \" <br> payoff = \" + f\"{tree['payoff']:.2f}\" if 'payoff' in tree else \"\")\n",
    "            snode = snode + ( \" <br> p = \" + f\"{tree['probability']:.2f}\" if 'probability' in tree else \"\")\n",
    "            snode = snode + ( \" <br> emv = \" + f\"{tree['emv']:.2f}\" if 'emv' in tree else \"\")\n",
    "            nodes.append(str(i) + \"((\"+snode+\"))\")\n",
    "            nodes.append(\"style \"+str(i)+\"  fill:#FFD600\")\n",
    "        tree['_id_'] = i\n",
    "        i = i + 1\n",
    "        if 'child_edges' in tree:\n",
    "            for edge in tree['child_edges']:\n",
    "                i = get_node_list(edge['child_node'], nodes, i)\n",
    "        return i\n",
    "\n",
    "    def get_edge_list(tree, nodes=[]):\n",
    "        \"\"\"\n",
    "        рекурсивно строим связи для всех узлов\n",
    "        \"\"\"\n",
    "        if tree['type'] != 'terminal':\n",
    "            if 'child_edges' in tree:\n",
    "                for edge in tree['child_edges']:\n",
    "                    sedge = edge['name']\n",
    "                    sedge = sedge + ( \" <br> payoff = \" + str(edge['payoff']) if 'payoff' in edge else \"\")\n",
    "                    sedge = sedge + ( \" <br> p = \" + str(edge['probability']) if 'probability' in edge else \"\")\n",
    "                    \n",
    "                    nodes.append(str(tree['_id_']) +\"--\" + sedge +\"-->\" + str(edge['child_node']['_id_'] ))\n",
    "                    get_edge_list(edge['child_node'], nodes)\n",
    "                    \n",
    "    nodes = [\"```mermaid\", \" flowchart LR\"]\n",
    "    tr = tree.copy()            \n",
    "    get_node_list(tr, nodes)\n",
    "    get_edge_list(tr, nodes)\n",
    "    st=\"\"\n",
    "    for s in nodes:\n",
    "        st = st + s + \" \\n\"\n",
    "    return st"
   ]
  },
  {
   "cell_type": "code",
   "execution_count": 4,
   "metadata": {},
   "outputs": [
    {
     "name": "stdout",
     "output_type": "stream",
     "text": [
      "```mermaid \n",
      " flowchart LR \n",
      "0[Покупать] \n",
      "style 0  fill:#FF6D00 \n",
      "1((Геология)) \n",
      "style 1  fill:#FFD600 \n",
      "2{.} \n",
      "style 2  fill:#00C853 \n",
      "3{.} \n",
      "style 3  fill:#00C853 \n",
      "4{.} \n",
      "style 4  fill:#00C853 \n",
      "5{.} \n",
      "style 5  fill:#00C853 \n",
      "0--Да <br> payoff = -1000-->1 \n",
      "1--Плохая <br> payoff = 1000 <br> p = 0.3-->2 \n",
      "1--Хорошая <br> payoff = 1100 <br> p = 0.4-->3 \n",
      "1--Отличная <br> payoff = 1200 <br> p = 0.3-->4 \n",
      "0--Нет <br> payoff = 0-->5 \n",
      "\n"
     ]
    }
   ],
   "source": [
    "\"\"\"\n",
    "вывод дерева в текстовом формате mermaid\n",
    "\"\"\"\n",
    "print(tree_to_mermaid_chart(tree))"
   ]
  },
  {
   "cell_type": "code",
   "execution_count": 5,
   "metadata": {},
   "outputs": [
    {
     "data": {
      "text/markdown": [
       "```mermaid \n",
       " flowchart LR \n",
       "0[Покупать] \n",
       "style 0  fill:#FF6D00 \n",
       "1((Геология)) \n",
       "style 1  fill:#FFD600 \n",
       "2{.} \n",
       "style 2  fill:#00C853 \n",
       "3{.} \n",
       "style 3  fill:#00C853 \n",
       "4{.} \n",
       "style 4  fill:#00C853 \n",
       "5{.} \n",
       "style 5  fill:#00C853 \n",
       "0--Да <br> payoff = -1000-->1 \n",
       "1--Плохая <br> payoff = 1000 <br> p = 0.3-->2 \n",
       "1--Хорошая <br> payoff = 1100 <br> p = 0.4-->3 \n",
       "1--Отличная <br> payoff = 1200 <br> p = 0.3-->4 \n",
       "0--Нет <br> payoff = 0-->5 \n"
      ]
     },
     "metadata": {},
     "output_type": "display_data"
    }
   ],
   "source": [
    "\"\"\"\n",
    "отображения дерева в формате mermaid \n",
    "работает в jupyter notebook, может не работать в colab или при просмотре на github\n",
    "\"\"\"\n",
    "display_markdown(tree_to_mermaid_chart(tree), raw=True)"
   ]
  },
  {
   "cell_type": "code",
   "execution_count": 6,
   "metadata": {},
   "outputs": [
    {
     "name": "stdout",
     "output_type": "stream",
     "text": [
      "===========================\n",
      "|   decision : Покупать [ 100.0]\n",
      "| --  Да   [payoff:-1000  p = 1] ->    chance : Геология [ emv = 1100.0] \n",
      "| ----  Плохая   [payoff:1000  p = 0.3] ->    terminal :  [ emv = 0]  (0.3 0)\n",
      "| ----  Хорошая   [payoff:1100  p = 0.4] ->    terminal :  [ emv = 0]  (0.4 100)\n",
      "| ----  Отличная   [payoff:1200  p = 0.3] ->    terminal :  [ emv = 0]  (0.3 200)\n",
      "| --  Нет   [payoff:0  p = 0] ->    terminal :  [ emv = 0]  (0 0)\n"
     ]
    }
   ],
   "source": [
    "def solve_tree(tree, v=0, p=0):\n",
    "    \"\"\"\n",
    "    рекурсивное решение дерева заданного в виде словаря\n",
    "    \"\"\"\n",
    "    \n",
    "    if tree['type'] == 'terminal':\n",
    "        # для терминального узла сохраняем в нем итоговые выигрыши и вероятности\n",
    "        tree['emv'] = 0\n",
    "        tree['v'] = v\n",
    "        tree['p'] = p\n",
    "    else:\n",
    "        # или 'decision' или 'chance' с дочерними узлами\n",
    "        tree['emv'] = 0\n",
    "        if tree['type'] == 'decision':\n",
    "            tree['emvs'] = {}\n",
    "            num = 0\n",
    "        \n",
    "        for edge in tree['child_edges']:\n",
    "            # переберем все связи рассматриваемого узла\n",
    "            if tree['type'] == 'decision':\n",
    "                edge['id'] = num\n",
    "                num = num + 1\n",
    "\n",
    "            # рекурсивно рассчитаем параметры дочерних узлов\n",
    "            solve_tree(edge['child_node'], edge['payoff']+v, edge['probability'] if 'probability' in edge else 0 * p)\n",
    "\n",
    "            # рассчитаем emv рассматриваемого узла\n",
    "            if tree['type'] == 'decision':\n",
    "                tree['emvs'][edge['id']] = edge['child_node']['emv'] + edge['payoff']\n",
    "            else:\n",
    "                tree['emv'] = tree['emv'] + (edge['child_node']['emv'] + edge['payoff']) * edge['probability']\n",
    "\n",
    "        # для узла решения определим оптимальное - из максимизации EMV\n",
    "        if tree['type'] == 'decision':\n",
    "            tree['emv'] = max(tree['emvs'].values())\n",
    "            for edge in tree['child_edges']:\n",
    "                if tree['emvs'][edge['id']] == tree['emv']:\n",
    "                    edge['probability'] = 1\n",
    "                else:\n",
    "                    edge['probability'] = 0\n",
    "            # оценим VOI для узла решения\n",
    "            emv_wi = 0\n",
    "            emv_woi = 0\n",
    "            calc_voi = [False, False]\n",
    "            for edge in tree['child_edges']:\n",
    "                if 'voi_info' in edge:\n",
    "                    if edge['voi_info']=='with_info':\n",
    "                        emv_wi = tree['emvs'][edge['id']] - edge['payoff']\n",
    "                        calc_voi[0] = True\n",
    "                    if edge['voi_info']=='without_info':\n",
    "                        emv_woi = tree['emvs'][edge['id']] - edge['payoff']\n",
    "                        calc_voi[1] = True\n",
    "            if calc_voi == [True, True]:\n",
    "                tree['voi'] = emv_wi - emv_woi\n",
    "      \n",
    "\n",
    "\n",
    "\n",
    "def print_tree(tree, level=0):\n",
    "    if level == 0:\n",
    "        print('|','-'*level,  f\" {tree['type']} : {tree['name'] if 'name' in tree else ''} [ {tree['emv']}]\" )\n",
    "    else:\n",
    "        if 'child_node' in tree:\n",
    "            print('|', '-'*level,  \n",
    "                  f\" {tree['name']} \",\n",
    "                  f\" [payoff:{tree['payoff']} { (' p = ' + str(tree['probability'])) if 'probability' in tree else '' }] -> \",\n",
    "                  f\"  {tree['child_node']['type']} : {tree['child_node']['name'] if 'name' in tree['child_node'] else ''} [ emv = {tree['child_node']['emv']}]\",\n",
    "                  f\" ({tree['child_node']['p']} {tree['child_node']['v']})\" if tree['child_node']['type']=='terminal' else '' )\n",
    "\n",
    "\n",
    "    if 'child_edges' in tree:\n",
    "        for edge in tree['child_edges']:\n",
    "            print_tree(edge, level=level+2)\n",
    "            print_tree(edge['child_node'], level=level+2)\n",
    "\n",
    "solve_tree(tree)\n",
    "print('===========================')\n",
    "print_tree(tree)"
   ]
  },
  {
   "cell_type": "code",
   "execution_count": 7,
   "metadata": {},
   "outputs": [
    {
     "data": {
      "text/markdown": [
       "```mermaid \n",
       " flowchart LR \n",
       "0[Покупать <br> emv = 100.00] \n",
       "style 0  fill:#FF6D00 \n",
       "1((Геология <br> emv = 1100.00)) \n",
       "style 1  fill:#FFD600 \n",
       "2{  p = 0.3 <br> v = 0} \n",
       "style 2  fill:#00C853 \n",
       "3{  p = 0.4 <br> v = 100} \n",
       "style 3  fill:#00C853 \n",
       "4{  p = 0.3 <br> v = 200} \n",
       "style 4  fill:#00C853 \n",
       "5{  p = 0 <br> v = 0} \n",
       "style 5  fill:#00C853 \n",
       "0--Да <br> payoff = -1000 <br> p = 1-->1 \n",
       "1--Плохая <br> payoff = 1000 <br> p = 0.3-->2 \n",
       "1--Хорошая <br> payoff = 1100 <br> p = 0.4-->3 \n",
       "1--Отличная <br> payoff = 1200 <br> p = 0.3-->4 \n",
       "0--Нет <br> payoff = 0 <br> p = 0-->5 \n"
      ]
     },
     "metadata": {},
     "output_type": "display_data"
    }
   ],
   "source": [
    "display_markdown(tree_to_mermaid_chart(tree), raw=True)"
   ]
  },
  {
   "cell_type": "markdown",
   "metadata": {},
   "source": [
    "Видно, что функции решения дерева дают результаты аналогичные дереву построенному в программе [silverdecisions.pl](https://silverdecisions.pl/)"
   ]
  },
  {
   "cell_type": "markdown",
   "metadata": {},
   "source": [
    "# задача 1.2"
   ]
  },
  {
   "attachments": {
    "1a48d805-cca5-4d9e-9959-9fbb9c31cd2e.png": {
     "image/png": "[encoded data removed]"
    }
   },
   "cell_type": "markdown",
   "metadata": {},
   "source": [
    "![image.png](attachment:1a48d805-cca5-4d9e-9959-9fbb9c31cd2e.png)"
   ]
  },
  {
   "cell_type": "code",
   "execution_count": 8,
   "metadata": {},
   "outputs": [],
   "source": [
    "tree2 = {\"name\": \"Исследовать\",\n",
    "        \"type\": \"decision\",\n",
    "        \"child_edges\":[\n",
    "                       {\"name\": \"Да\",\n",
    "                        \"voi_info\":\"with_info\",\n",
    "                        \"payoff\": -5,\n",
    "                        \"child_node\": \n",
    "                                    {\"name\": \"Успешность\",\n",
    "                                     \"type\": \"chance\",\n",
    "                                     \"child_edges\": [\n",
    "                                                    {\"name\": \"Успех\",\n",
    "                                                     \"payoff\": 0,\n",
    "                                                     \"probability\": 0.7,\n",
    "                                                     \"child_node\":\n",
    "                                                                    {\"name\": \"Запасы\",\n",
    "                                                                     \"type\": \"chance\",\n",
    "                                                                     \"child_edges\": [\n",
    "                                                                                    {\"name\": \"Подтвердили\",\n",
    "                                                                                     \"payoff\": 150,\n",
    "                                                                                     \"probability\": 0.3,\n",
    "                                                                                     \"child_node\": {\"type\": \"terminal\"}\n",
    "                                                                                    },\n",
    "                                                                                    {\"name\": \"Не подтвердили\",\n",
    "                                                                                     \"payoff\": 0,\n",
    "                                                                                     \"probability\": 0.7,\n",
    "                                                                                     \"child_node\": {\"type\": \"terminal\"}\n",
    "                                                                                    },\n",
    "                                                                                    ]  \n",
    "                                                                    }\n",
    "                                                    },\n",
    "                                                    {\"name\": \"Провал\",\n",
    "                                                     \"payoff\": 0,\n",
    "                                                     \"probability\": 0.3,\n",
    "                                                     \"child_node\": {\"type\": \"terminal\"}\n",
    "                                                    },\n",
    "                                                    ]  \n",
    "                                    }\n",
    "                        },\n",
    "                        {\"name\": \"Нет\",\n",
    "                         \"voi_info\":\"without_info\",\n",
    "                         \"payoff\": 0,\n",
    "                         \"child_node\": {\"type\": \"terminal\"}\n",
    "                        }\n",
    "                    ]  \n",
    "        }"
   ]
  },
  {
   "cell_type": "code",
   "execution_count": 9,
   "metadata": {},
   "outputs": [
    {
     "data": {
      "text/markdown": [
       "```mermaid \n",
       " flowchart LR \n",
       "0[Исследовать] \n",
       "style 0  fill:#FF6D00 \n",
       "1((Успешность)) \n",
       "style 1  fill:#FFD600 \n",
       "2((Запасы)) \n",
       "style 2  fill:#FFD600 \n",
       "3{.} \n",
       "style 3  fill:#00C853 \n",
       "4{.} \n",
       "style 4  fill:#00C853 \n",
       "5{.} \n",
       "style 5  fill:#00C853 \n",
       "6{.} \n",
       "style 6  fill:#00C853 \n",
       "0--Да <br> payoff = -5-->1 \n",
       "1--Успех <br> payoff = 0 <br> p = 0.7-->2 \n",
       "2--Подтвердили <br> payoff = 150 <br> p = 0.3-->3 \n",
       "2--Не подтвердили <br> payoff = 0 <br> p = 0.7-->4 \n",
       "1--Провал <br> payoff = 0 <br> p = 0.3-->5 \n",
       "0--Нет <br> payoff = 0-->6 \n"
      ]
     },
     "metadata": {},
     "output_type": "display_data"
    }
   ],
   "source": [
    "display_markdown(tree_to_mermaid_chart(tree2), raw=True)"
   ]
  },
  {
   "cell_type": "code",
   "execution_count": 10,
   "metadata": {},
   "outputs": [
    {
     "data": {
      "text/markdown": [
       "```mermaid \n",
       " flowchart LR \n",
       "0[Исследовать <br> emv = 26.50 <br> voi = 31.50] \n",
       "style 0  fill:#FF6D00 \n",
       "1((Успешность <br> emv = 31.50)) \n",
       "style 1  fill:#FFD600 \n",
       "2((Запасы <br> emv = 45.00)) \n",
       "style 2  fill:#FFD600 \n",
       "3{  p = 0.3 <br> v = 145} \n",
       "style 3  fill:#00C853 \n",
       "4{  p = 0.7 <br> v = -5} \n",
       "style 4  fill:#00C853 \n",
       "5{  p = 0.3 <br> v = -5} \n",
       "style 5  fill:#00C853 \n",
       "6{  p = 0 <br> v = 0} \n",
       "style 6  fill:#00C853 \n",
       "0--Да <br> payoff = -5 <br> p = 1-->1 \n",
       "1--Успех <br> payoff = 0 <br> p = 0.7-->2 \n",
       "2--Подтвердили <br> payoff = 150 <br> p = 0.3-->3 \n",
       "2--Не подтвердили <br> payoff = 0 <br> p = 0.7-->4 \n",
       "1--Провал <br> payoff = 0 <br> p = 0.3-->5 \n",
       "0--Нет <br> payoff = 0 <br> p = 0-->6 \n"
      ]
     },
     "metadata": {},
     "output_type": "display_data"
    }
   ],
   "source": [
    "solve_tree(tree2)\n",
    "display_markdown(tree_to_mermaid_chart(tree2), raw=True)"
   ]
  },
  {
   "cell_type": "markdown",
   "metadata": {},
   "source": [
    "# Задача 2"
   ]
  },
  {
   "attachments": {
    "b2b7dd93-20c2-4e8c-a3e9-a117a47e786a.png": {
     "image/png": "[encoded data removed]"
    }
   },
   "cell_type": "markdown",
   "metadata": {},
   "source": [
    "![image.png](attachment:b2b7dd93-20c2-4e8c-a3e9-a117a47e786a.png)"
   ]
  },
  {
   "cell_type": "code",
   "execution_count": 11,
   "metadata": {},
   "outputs": [],
   "source": [
    "tree3 = {\"name\": \"ГДИС\",\n",
    "        \"type\": \"decision\",\n",
    "        \"child_edges\":[\n",
    "                       {\"name\": \"Да\",\n",
    "                        \"voi_info\":\"with_info\",\n",
    "                        \"payoff\": -1,\n",
    "                        \"child_node\": \n",
    "                                    {\"name\": \"Скин\",\n",
    "                                     \"type\": \"chance\",\n",
    "                                     \"child_edges\": [\n",
    "                                                    {\"name\": \"S=14\",\n",
    "                                                     \"payoff\": 0,\n",
    "                                                     \"probability\": 0.5,\n",
    "                                                     \"child_node\": \n",
    "                                                                {\"name\": \"ОПЗ\",\n",
    "                                                                 \"type\": \"decision\",\n",
    "                                                                 \"child_edges\":[\n",
    "                                                                                   {\"name\": \"Да\",\n",
    "                                                                                    \"voi_info\":\"with_info\",\n",
    "                                                                                    \"payoff\": 72,\n",
    "                                                                                    \"child_node\": {\"type\": \"terminal\"}                                                                                               \n",
    "                                                                                    },\n",
    "                                                                                    {\"name\": \"Нет\",\n",
    "                                                                                     \"voi_info\":\"without_info\",\n",
    "                                                                                     \"payoff\": 0,\n",
    "                                                                                     \"child_node\": {\"type\": \"terminal\"}\n",
    "                                                                                    }\n",
    "                                                                                ]  \n",
    "                                                                }\n",
    "                                                    },\n",
    "                                                    {\"name\": \"S=7\",\n",
    "                                                     \"payoff\": 0,\n",
    "                                                     \"probability\": 0.2,\n",
    "                                                     \"child_node\": \n",
    "                                                                {\"name\": \"ОПЗ\",\n",
    "                                                                 \"type\": \"decision\",\n",
    "                                                                 \"child_edges\":[\n",
    "                                                                                   {\"name\": \"Да\",\n",
    "                                                                                    \"voi_info\":\"with_info\",\n",
    "                                                                                    \"payoff\": 47,\n",
    "                                                                                    \"child_node\": {\"type\": \"terminal\"}                                                                                               \n",
    "                                                                                    },\n",
    "                                                                                    {\"name\": \"Нет\",\n",
    "                                                                                     \"voi_info\":\"without_info\",\n",
    "                                                                                     \"payoff\": 0,\n",
    "                                                                                     \"child_node\": {\"type\": \"terminal\"}\n",
    "                                                                                    }\n",
    "                                                                                ]  \n",
    "                                                                }\n",
    "                                                    },\n",
    "                                                    {\"name\": \"S=0\",\n",
    "                                                     \"payoff\": 0,\n",
    "                                                     \"probability\": 0.3,\n",
    "                                                     \"child_node\": \n",
    "                                                                {\"name\": \"ОПЗ\",\n",
    "                                                                 \"type\": \"decision\",\n",
    "                                                                 \"child_edges\":[\n",
    "                                                                                   {\"name\": \"Да\",\n",
    "                                                                                    \"voi_info\":\"with_info\",\n",
    "                                                                                    \"payoff\": -1,\n",
    "                                                                                    \"child_node\": {\"type\": \"terminal\"}                                                                                               \n",
    "                                                                                    },\n",
    "                                                                                    {\"name\": \"Нет\",\n",
    "                                                                                     \"voi_info\":\"without_info\",\n",
    "                                                                                     \"payoff\": 0,\n",
    "                                                                                     \"child_node\": {\"type\": \"terminal\"}\n",
    "                                                                                    }\n",
    "                                                                                ]  \n",
    "                                                                }\n",
    "                                                    },\n",
    "                                                    ]  \n",
    "                                    }\n",
    "                        },\n",
    "                        {\"name\": \"Нет\",\n",
    "                         \"voi_info\":\"without_info\",\n",
    "                         \"payoff\": 0,\n",
    "                         \"child_node\": \n",
    "                             {\"name\": \"ОПЗ\",\n",
    "                             \"type\": \"decision\",\n",
    "                             \"child_edges\":[\n",
    "                                               {\"name\": \"Да\",\n",
    "                                                \"voi_info\":\"with_info\",\n",
    "                                                \"payoff\": -1,\n",
    "                                                \"child_node\": \n",
    "                                                    {\"name\": \"Скин\",\n",
    "                                                         \"type\": \"chance\",\n",
    "                                                         \"child_edges\": [\n",
    "                                                                        {\"name\": \"S=14\",\n",
    "                                                                         \"payoff\": 73,\n",
    "                                                                         \"probability\": 0.5,\n",
    "                                                                         \"child_node\": {\"type\": \"terminal\"}  \n",
    "                                                                                    \n",
    "                                                                        },\n",
    "                                                                        {\"name\": \"S=7\",\n",
    "                                                                         \"payoff\": 48,\n",
    "                                                                         \"probability\": 0.2,\n",
    "                                                                         \"child_node\": {\"type\": \"terminal\"}  \n",
    "                                                                                   \n",
    "                                                                        },\n",
    "                                                                        {\"name\": \"S=0\",\n",
    "                                                                         \"payoff\": 0,\n",
    "                                                                         \"probability\": 0.3,\n",
    "                                                                         \"child_node\": {\"type\": \"terminal\"}  \n",
    "                                                                                   \n",
    "                                                                        },\n",
    "                                                                        ]  \n",
    "                                                        }                                                                                       \n",
    "                                                },\n",
    "                                                {\"name\": \"Нет\",\n",
    "                                                 \"voi_info\":\"without_info\",\n",
    "                                                 \"payoff\": 0,\n",
    "                                                 \"child_node\": {\"type\": \"terminal\"}\n",
    "                                                }\n",
    "                                            ]  \n",
    "                            }\n",
    "                        }\n",
    "                    ]  \n",
    "        }"
   ]
  },
  {
   "cell_type": "code",
   "execution_count": 12,
   "metadata": {},
   "outputs": [
    {
     "data": {
      "text/markdown": [
       "```mermaid \n",
       " flowchart LR \n",
       "0[ГДИС] \n",
       "style 0  fill:#FF6D00 \n",
       "1((Скин)) \n",
       "style 1  fill:#FFD600 \n",
       "2[ОПЗ] \n",
       "style 2  fill:#FF6D00 \n",
       "3{.} \n",
       "style 3  fill:#00C853 \n",
       "4{.} \n",
       "style 4  fill:#00C853 \n",
       "5[ОПЗ] \n",
       "style 5  fill:#FF6D00 \n",
       "6{.} \n",
       "style 6  fill:#00C853 \n",
       "7{.} \n",
       "style 7  fill:#00C853 \n",
       "8[ОПЗ] \n",
       "style 8  fill:#FF6D00 \n",
       "9{.} \n",
       "style 9  fill:#00C853 \n",
       "10{.} \n",
       "style 10  fill:#00C853 \n",
       "11[ОПЗ] \n",
       "style 11  fill:#FF6D00 \n",
       "12((Скин)) \n",
       "style 12  fill:#FFD600 \n",
       "13{.} \n",
       "style 13  fill:#00C853 \n",
       "14{.} \n",
       "style 14  fill:#00C853 \n",
       "15{.} \n",
       "style 15  fill:#00C853 \n",
       "16{.} \n",
       "style 16  fill:#00C853 \n",
       "0--Да <br> payoff = -1-->1 \n",
       "1--S=14 <br> payoff = 0 <br> p = 0.5-->2 \n",
       "2--Да <br> payoff = 72-->3 \n",
       "2--Нет <br> payoff = 0-->4 \n",
       "1--S=7 <br> payoff = 0 <br> p = 0.2-->5 \n",
       "5--Да <br> payoff = 47-->6 \n",
       "5--Нет <br> payoff = 0-->7 \n",
       "1--S=0 <br> payoff = 0 <br> p = 0.3-->8 \n",
       "8--Да <br> payoff = -1-->9 \n",
       "8--Нет <br> payoff = 0-->10 \n",
       "0--Нет <br> payoff = 0-->11 \n",
       "11--Да <br> payoff = -1-->12 \n",
       "12--S=14 <br> payoff = 73 <br> p = 0.5-->13 \n",
       "12--S=7 <br> payoff = 48 <br> p = 0.2-->14 \n",
       "12--S=0 <br> payoff = 0 <br> p = 0.3-->15 \n",
       "11--Нет <br> payoff = 0-->16 \n"
      ]
     },
     "metadata": {},
     "output_type": "display_data"
    }
   ],
   "source": [
    "display_markdown(tree_to_mermaid_chart(tree3), raw=True)"
   ]
  },
  {
   "cell_type": "code",
   "execution_count": 13,
   "metadata": {},
   "outputs": [
    {
     "data": {
      "text/markdown": [
       "```mermaid \n",
       " flowchart LR \n",
       "0[ГДИС <br> emv = 45.10 <br> voi = 0.30] \n",
       "style 0  fill:#FF6D00 \n",
       "1((Скин <br> emv = 45.40)) \n",
       "style 1  fill:#FFD600 \n",
       "2[ОПЗ <br> emv = 72.00 <br> voi = 0.00] \n",
       "style 2  fill:#FF6D00 \n",
       "3{  p = 0.0 <br> v = 71} \n",
       "style 3  fill:#00C853 \n",
       "4{  p = 0.0 <br> v = -1} \n",
       "style 4  fill:#00C853 \n",
       "5[ОПЗ <br> emv = 47.00 <br> voi = 0.00] \n",
       "style 5  fill:#FF6D00 \n",
       "6{  p = 0.0 <br> v = 46} \n",
       "style 6  fill:#00C853 \n",
       "7{  p = 0.0 <br> v = -1} \n",
       "style 7  fill:#00C853 \n",
       "8[ОПЗ <br> emv = 0.00 <br> voi = 0.00] \n",
       "style 8  fill:#FF6D00 \n",
       "9{  p = 0.0 <br> v = -2} \n",
       "style 9  fill:#00C853 \n",
       "10{  p = 0.0 <br> v = -1} \n",
       "style 10  fill:#00C853 \n",
       "11[ОПЗ <br> emv = 45.10 <br> voi = 46.10] \n",
       "style 11  fill:#FF6D00 \n",
       "12((Скин <br> emv = 46.10)) \n",
       "style 12  fill:#FFD600 \n",
       "13{  p = 0.5 <br> v = 72} \n",
       "style 13  fill:#00C853 \n",
       "14{  p = 0.2 <br> v = 47} \n",
       "style 14  fill:#00C853 \n",
       "15{  p = 0.3 <br> v = -1} \n",
       "style 15  fill:#00C853 \n",
       "16{  p = 0 <br> v = 0} \n",
       "style 16  fill:#00C853 \n",
       "0--Да <br> payoff = -1 <br> p = 0-->1 \n",
       "1--S=14 <br> payoff = 0 <br> p = 0.5-->2 \n",
       "2--Да <br> payoff = 72 <br> p = 1-->3 \n",
       "2--Нет <br> payoff = 0 <br> p = 0-->4 \n",
       "1--S=7 <br> payoff = 0 <br> p = 0.2-->5 \n",
       "5--Да <br> payoff = 47 <br> p = 1-->6 \n",
       "5--Нет <br> payoff = 0 <br> p = 0-->7 \n",
       "1--S=0 <br> payoff = 0 <br> p = 0.3-->8 \n",
       "8--Да <br> payoff = -1 <br> p = 0-->9 \n",
       "8--Нет <br> payoff = 0 <br> p = 1-->10 \n",
       "0--Нет <br> payoff = 0 <br> p = 1-->11 \n",
       "11--Да <br> payoff = -1 <br> p = 1-->12 \n",
       "12--S=14 <br> payoff = 73 <br> p = 0.5-->13 \n",
       "12--S=7 <br> payoff = 48 <br> p = 0.2-->14 \n",
       "12--S=0 <br> payoff = 0 <br> p = 0.3-->15 \n",
       "11--Нет <br> payoff = 0 <br> p = 0-->16 \n"
      ]
     },
     "metadata": {},
     "output_type": "display_data"
    }
   ],
   "source": [
    "solve_tree(tree3)\n",
    "display_markdown(tree_to_mermaid_chart(tree3), raw=True)"
   ]
  },
  {
   "cell_type": "markdown",
   "metadata": {},
   "source": [
    "Надо подставить вместо цифр расчетные формулы \n",
    "и нарисовать графики \n",
    "- зависимости EMV, VOI от стоимости ОПЗ\n",
    "- зависимости EMV, VOI от стоимости ГДИС\n",
    "- зависимости EMV, VOI от вероятности наличия скин-фактора (средний скин и дисперсия)"
   ]
  },
  {
   "cell_type": "markdown",
   "metadata": {},
   "source": [
    "# Задача 3"
   ]
  },
  {
   "cell_type": "code",
   "execution_count": 14,
   "metadata": {},
   "outputs": [],
   "source": [
    "tree2 = {\"name\": \"Покупать\",\n",
    "        \"type\": \"decision\",\n",
    "        \"child_edges\":[\n",
    "                        {\"name\": \"Да\",\n",
    "                         \"payoff\": -100,\n",
    "                         \"child_node\": \n",
    "                                {\"name\": \"Успех\",\n",
    "                                 \"type\": \"chance\",\n",
    "                                 \"child_edges\": [\n",
    "                                                    {\"name\": \"Да\",\n",
    "                                                    \"payoff\": 100,\n",
    "                                                    \"probability\": 0.6,\n",
    "                                                    \"child_node\": \n",
    "                                                                    {\"name\": \"Результат\",\n",
    "                                                                     \"type\": \"chance\",\n",
    "                                                                     \"child_edges\": [\n",
    "                                                                                        {\"name\": \"Да\",\n",
    "                                                                                        \"payoff\": 1000,\n",
    "                                                                                        \"probability\": 0.8,\n",
    "                                                                                        \"child_node\": {\"type\": \"terminal\"}\n",
    "                                                                                        },\n",
    "                                                                                        {\"name\": \"Нет\",\n",
    "                                                                                        \"payoff\": -10,\n",
    "                                                                                        \"probability\": 0.2,\n",
    "                                                                                        \"child_node\": {\"type\": \"terminal\"}\n",
    "                                                                                        },\n",
    "                                                                                    ]  \n",
    "                                                                    }\n",
    "                                                                \n",
    "                                                     \n",
    "                                                    },\n",
    "                                                    {\"name\": \"Нет\",\n",
    "                                                    \"payoff\": -10,\n",
    "                                                    \"probability\": 0.4,\n",
    "                                                    \"child_node\": {\"type\": \"terminal\"}\n",
    "                                                    },\n",
    "                                                ]  \n",
    "                                }\n",
    "                        },\n",
    "                        {\"name\": \"Нет\",\n",
    "                         \"payoff\": -100,\n",
    "                         \"child_node\": {\"type\": \"terminal\"}\n",
    "                        }\n",
    "                    ]  \n",
    "        }"
   ]
  },
  {
   "cell_type": "code",
   "execution_count": 15,
   "metadata": {},
   "outputs": [
    {
     "name": "stdout",
     "output_type": "stream",
     "text": [
      "===========================\n",
      "|   decision : Покупать [ 434.79999999999995]\n",
      "| --  Да   [payoff:-100  p = 1] ->    chance : Успех [ emv = 534.8] \n",
      "| ----  Да   [payoff:100  p = 0.6] ->    chance : Результат [ emv = 798.0] \n",
      "| ------  Да   [payoff:1000  p = 0.8] ->    terminal :  [ emv = 0]  (0.8 1000)\n",
      "| ------  Нет   [payoff:-10  p = 0.2] ->    terminal :  [ emv = 0]  (0.2 -10)\n",
      "| ----  Нет   [payoff:-10  p = 0.4] ->    terminal :  [ emv = 0]  (0.4 -110)\n",
      "| --  Нет   [payoff:-100  p = 0] ->    terminal :  [ emv = 0]  (0 -100)\n"
     ]
    }
   ],
   "source": [
    "solve_tree(tree2)\n",
    "print('===========================')\n",
    "print_tree(tree2)"
   ]
  },
  {
   "cell_type": "code",
   "execution_count": 16,
   "metadata": {},
   "outputs": [
    {
     "data": {
      "text/plain": [
       "{'name': 'Покупать',\n",
       " 'type': 'decision',\n",
       " 'child_edges': [{'name': 'Да',\n",
       "   'payoff': -100,\n",
       "   'child_node': {'name': 'Успех',\n",
       "    'type': 'chance',\n",
       "    'child_edges': [{'name': 'Да',\n",
       "      'payoff': 100,\n",
       "      'probability': 0.6,\n",
       "      'child_node': {'name': 'Результат',\n",
       "       'type': 'chance',\n",
       "       'child_edges': [{'name': 'Да',\n",
       "         'payoff': 1000,\n",
       "         'probability': 0.8,\n",
       "         'child_node': {'type': 'terminal', 'emv': 0, 'v': 1000, 'p': 0.8}},\n",
       "        {'name': 'Нет',\n",
       "         'payoff': -10,\n",
       "         'probability': 0.2,\n",
       "         'child_node': {'type': 'terminal', 'emv': 0, 'v': -10, 'p': 0.2}}],\n",
       "       'emv': 798.0}},\n",
       "     {'name': 'Нет',\n",
       "      'payoff': -10,\n",
       "      'probability': 0.4,\n",
       "      'child_node': {'type': 'terminal', 'emv': 0, 'v': -110, 'p': 0.4}}],\n",
       "    'emv': 534.8},\n",
       "   'id': 0,\n",
       "   'probability': 1},\n",
       "  {'name': 'Нет',\n",
       "   'payoff': -100,\n",
       "   'child_node': {'type': 'terminal', 'emv': 0, 'v': -100, 'p': 0},\n",
       "   'id': 1,\n",
       "   'probability': 0}],\n",
       " 'emv': 434.79999999999995,\n",
       " 'emvs': {0: 434.79999999999995, 1: -100}}"
      ]
     },
     "execution_count": 16,
     "metadata": {},
     "output_type": "execute_result"
    }
   ],
   "source": [
    "tree2"
   ]
  },
  {
   "cell_type": "code",
   "execution_count": 17,
   "metadata": {},
   "outputs": [],
   "source": [
    "a = 1.300000e1"
   ]
  },
  {
   "cell_type": "code",
   "execution_count": 18,
   "metadata": {},
   "outputs": [
    {
     "data": {
      "text/plain": [
       "'a = 13.000'"
      ]
     },
     "execution_count": 18,
     "metadata": {},
     "output_type": "execute_result"
    }
   ],
   "source": [
    "f\"a = {a:.3f}\""
   ]
  },
  {
   "cell_type": "code",
   "execution_count": null,
   "metadata": {},
   "outputs": [],
   "source": []
  }
 ],
 "metadata": {
  "kernelspec": {
   "display_name": "Python 3 (ipykernel)",
   "language": "python",
   "name": "python3"
  },
  "language_info": {
   "codemirror_mode": {
    "name": "ipython",
    "version": 3
   },
   "file_extension": ".py",
   "mimetype": "text/x-python",
   "name": "python",
   "nbconvert_exporter": "python",
   "pygments_lexer": "ipython3",
   "version": "3.12.5"
  }
 },
 "nbformat": 4,
 "nbformat_minor": 4
}
